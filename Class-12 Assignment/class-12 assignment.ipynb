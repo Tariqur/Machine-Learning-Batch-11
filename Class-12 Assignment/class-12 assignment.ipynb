{
  "metadata": {
    "language_info": {
      "codemirror_mode": {
        "name": "python",
        "version": 3
      },
      "file_extension": ".py",
      "mimetype": "text/x-python",
      "name": "python",
      "nbconvert_exporter": "python",
      "pygments_lexer": "ipython3",
      "version": "3.8"
    },
    "kernelspec": {
      "name": "python",
      "display_name": "Python (Pyodide)",
      "language": "python"
    }
  },
  "nbformat_minor": 4,
  "nbformat": 4,
  "cells": [
    {
      "cell_type": "code",
      "source": "import pandas as pd\ndf = pd.read_csv(\"weight-height.csv\")\ndf.head()",
      "metadata": {
        "trusted": true
      },
      "execution_count": 4,
      "outputs": [
        {
          "execution_count": 4,
          "output_type": "execute_result",
          "data": {
            "text/plain": "  Gender     Height      Weight\n0   Male  73.847017  241.893563\n1   Male  68.781904  162.310473\n2   Male  74.110105  212.740856\n3   Male  71.730978  220.042470\n4   Male  69.881796  206.349801",
            "text/html": "<div>\n<style scoped>\n    .dataframe tbody tr th:only-of-type {\n        vertical-align: middle;\n    }\n\n    .dataframe tbody tr th {\n        vertical-align: top;\n    }\n\n    .dataframe thead th {\n        text-align: right;\n    }\n</style>\n<table border=\"1\" class=\"dataframe\">\n  <thead>\n    <tr style=\"text-align: right;\">\n      <th></th>\n      <th>Gender</th>\n      <th>Height</th>\n      <th>Weight</th>\n    </tr>\n  </thead>\n  <tbody>\n    <tr>\n      <th>0</th>\n      <td>Male</td>\n      <td>73.847017</td>\n      <td>241.893563</td>\n    </tr>\n    <tr>\n      <th>1</th>\n      <td>Male</td>\n      <td>68.781904</td>\n      <td>162.310473</td>\n    </tr>\n    <tr>\n      <th>2</th>\n      <td>Male</td>\n      <td>74.110105</td>\n      <td>212.740856</td>\n    </tr>\n    <tr>\n      <th>3</th>\n      <td>Male</td>\n      <td>71.730978</td>\n      <td>220.042470</td>\n    </tr>\n    <tr>\n      <th>4</th>\n      <td>Male</td>\n      <td>69.881796</td>\n      <td>206.349801</td>\n    </tr>\n  </tbody>\n</table>\n</div>"
          },
          "metadata": {}
        }
      ]
    },
    {
      "cell_type": "code",
      "source": "df1 = df.copy()",
      "metadata": {
        "trusted": true
      },
      "execution_count": 5,
      "outputs": []
    },
    {
      "cell_type": "code",
      "source": "from sklearn import preprocessing\nlabel_encoder = preprocessing.LabelEncoder()\ndf['Gender']= label_encoder.fit_transform(df['Gender'])\ndf['Gender'].unique()",
      "metadata": {
        "trusted": true
      },
      "execution_count": 6,
      "outputs": [
        {
          "execution_count": 6,
          "output_type": "execute_result",
          "data": {
            "text/plain": "array([1, 0])"
          },
          "metadata": {}
        }
      ]
    },
    {
      "cell_type": "code",
      "source": "df.head()",
      "metadata": {
        "trusted": true
      },
      "execution_count": 7,
      "outputs": [
        {
          "execution_count": 7,
          "output_type": "execute_result",
          "data": {
            "text/plain": "   Gender     Height      Weight\n0       1  73.847017  241.893563\n1       1  68.781904  162.310473\n2       1  74.110105  212.740856\n3       1  71.730978  220.042470\n4       1  69.881796  206.349801",
            "text/html": "<div>\n<style scoped>\n    .dataframe tbody tr th:only-of-type {\n        vertical-align: middle;\n    }\n\n    .dataframe tbody tr th {\n        vertical-align: top;\n    }\n\n    .dataframe thead th {\n        text-align: right;\n    }\n</style>\n<table border=\"1\" class=\"dataframe\">\n  <thead>\n    <tr style=\"text-align: right;\">\n      <th></th>\n      <th>Gender</th>\n      <th>Height</th>\n      <th>Weight</th>\n    </tr>\n  </thead>\n  <tbody>\n    <tr>\n      <th>0</th>\n      <td>1</td>\n      <td>73.847017</td>\n      <td>241.893563</td>\n    </tr>\n    <tr>\n      <th>1</th>\n      <td>1</td>\n      <td>68.781904</td>\n      <td>162.310473</td>\n    </tr>\n    <tr>\n      <th>2</th>\n      <td>1</td>\n      <td>74.110105</td>\n      <td>212.740856</td>\n    </tr>\n    <tr>\n      <th>3</th>\n      <td>1</td>\n      <td>71.730978</td>\n      <td>220.042470</td>\n    </tr>\n    <tr>\n      <th>4</th>\n      <td>1</td>\n      <td>69.881796</td>\n      <td>206.349801</td>\n    </tr>\n  </tbody>\n</table>\n</div>"
          },
          "metadata": {}
        }
      ]
    },
    {
      "cell_type": "code",
      "source": "X = df[['Gender','Height']]\ny = df['Weight']",
      "metadata": {
        "trusted": true
      },
      "execution_count": 9,
      "outputs": []
    },
    {
      "cell_type": "code",
      "source": "from sklearn.model_selection import train_test_split\nX_train,X_test,y_train,y_test = train_test_split(X,y,test_size=0.3)\nfrom sklearn.linear_model import LinearRegression\nclf = LinearRegression()\nclf.fit(X_train, y_train)",
      "metadata": {
        "trusted": true
      },
      "execution_count": 10,
      "outputs": [
        {
          "execution_count": 10,
          "output_type": "execute_result",
          "data": {
            "text/plain": "LinearRegression()"
          },
          "metadata": {}
        }
      ]
    },
    {
      "cell_type": "code",
      "source": "p_value = clf.predict(X_test)",
      "metadata": {
        "trusted": true
      },
      "execution_count": 11,
      "outputs": []
    },
    {
      "cell_type": "code",
      "source": "clf.score(X_test,y_test)",
      "metadata": {
        "trusted": true
      },
      "execution_count": 13,
      "outputs": [
        {
          "execution_count": 13,
          "output_type": "execute_result",
          "data": {
            "text/plain": "0.8923208517502554"
          },
          "metadata": {}
        }
      ]
    },
    {
      "cell_type": "markdown",
      "source": "# So Accuracy is 89%",
      "metadata": {}
    },
    {
      "cell_type": "code",
      "source": "from sklearn.metrics import mean_absolute_error,mean_squared_error",
      "metadata": {
        "trusted": true
      },
      "execution_count": 14,
      "outputs": []
    },
    {
      "cell_type": "code",
      "source": "MAE = mean_absolute_error(y_test,p_value)\nMSE = mean_squared_error(y_test,p_value)\nprint(MAE)  #The Result of MAE\nprint(MSE) #The Result of MSE",
      "metadata": {
        "trusted": true
      },
      "execution_count": 17,
      "outputs": [
        {
          "name": "stdout",
          "text": "8.114019676387473\n108.79424312369522\n",
          "output_type": "stream"
        }
      ]
    },
    {
      "cell_type": "markdown",
      "source": "# The Result of MAE : 8.11\n# The Result of MSE : 108.79",
      "metadata": {}
    },
    {
      "cell_type": "markdown",
      "source": "# Now KN  Algorithm",
      "metadata": {}
    },
    {
      "cell_type": "code",
      "source": "X = df1[['Weight','Height']]\ny = df1['Gender']\ny =df.Gender.replace(['Male','Female'],[1,0])\nX = pd.get_dummies(X)",
      "metadata": {
        "trusted": true
      },
      "execution_count": 19,
      "outputs": []
    },
    {
      "cell_type": "code",
      "source": "from sklearn.model_selection import train_test_split\nX_train,X_test,y_train,y_test = train_test_split(X,y, test_size=0.3)\nfrom sklearn.neighbors import KNeighborsClassifier\nfrom sklearn.metrics import roc_curve\nfrom sklearn.metrics import auc\nKNN = KNeighborsClassifier(n_neighbors=5,weights='uniform',algorithm='kd_tree',leaf_size=30,p=2,metric='minkowski',n_jobs=-1)\n\nKNN.fit(X_train,y_train)",
      "metadata": {
        "trusted": true
      },
      "execution_count": 20,
      "outputs": [
        {
          "execution_count": 20,
          "output_type": "execute_result",
          "data": {
            "text/plain": "KNeighborsClassifier(algorithm='kd_tree', n_jobs=-1)"
          },
          "metadata": {}
        }
      ]
    },
    {
      "cell_type": "code",
      "source": "Y_pred = KNN.predict(X_test)\nKNN.score(X_test,y_test)",
      "metadata": {
        "trusted": true
      },
      "execution_count": 21,
      "outputs": [
        {
          "execution_count": 21,
          "output_type": "execute_result",
          "data": {
            "text/plain": "0.905726529022205"
          },
          "metadata": {}
        }
      ]
    },
    {
      "cell_type": "markdown",
      "source": "# Accuracy is 91%",
      "metadata": {}
    },
    {
      "cell_type": "code",
      "source": "import matplotlib.pyplot as plt\n%matplotlib inline\ny_scores = KNN.predict_proba(X_test)\nfpr, tpr, threshold = roc_curve(y_test, y_scores[::, 1])\nroc_auc = auc(fpr, tpr)\n\nplt.title('Receiver Operating Characteristic')\nplt.plot(fpr, tpr, 'b', label = 'AUC = %0.2f' % roc_auc)\nplt.legend(loc = 'lower right')\nplt.plot([0, 1], [0, 1],'r--')\nplt.xlim([0, 1])\nplt.ylim([0, 1])\nplt.ylabel('True Positive Rate')\nplt.xlabel('False Positive Rate')\nplt.title('ROC Curve of kNN')\nplt.show()",
      "metadata": {
        "trusted": true
      },
      "execution_count": 23,
      "outputs": [
        {
          "output_type": "display_data",
          "data": {
            "text/plain": "<pyolite.display.Image at 0x65997b0>",
            "image/png": "[encoded data removed]"
          },
          "metadata": {}
        },
        {
          "output_type": "display_data",
          "data": {
            "text/plain": "<Figure size 432x288 with 0 Axes>"
          },
          "metadata": {}
        }
      ]
    },
    {
      "cell_type": "markdown",
      "source": "# Using KNN Regressor",
      "metadata": {}
    },
    {
      "cell_type": "code",
      "source": "from sklearn.neighbors import KNeighborsRegressor\n# Weight function used in prediction = uniform\nkn_reg = KNeighborsRegressor(n_neighbors=5)\nkn_reg.fit(X_train, y_train)\nknreg_test_pred = kn_reg.predict(X_test)\n\nkn_dist_reg = KNeighborsRegressor(n_neighbors=5, weights='distance')\nkn_dist_reg.fit(X_train, y_train)\nknreg_dist_test_pred = kn_dist_reg.predict(X_test)",
      "metadata": {
        "trusted": true
      },
      "execution_count": 40,
      "outputs": []
    },
    {
      "cell_type": "code",
      "source": "from sklearn.metrics import mean_squared_error, mean_absolute_error\nkn_reg_mse = mean_squared_error(y_test, knreg_test_pred)\nkn_reg_mse",
      "metadata": {
        "trusted": true
      },
      "execution_count": 41,
      "outputs": [
        {
          "execution_count": 41,
          "output_type": "execute_result",
          "data": {
            "text/plain": "0.07431242695753798"
          },
          "metadata": {}
        }
      ]
    },
    {
      "cell_type": "code",
      "source": "kn_reg_mae = mean_absolute_error(y_test, knreg_test_pred)\nkn_reg_mae",
      "metadata": {
        "trusted": true
      },
      "execution_count": 43,
      "outputs": [
        {
          "execution_count": 43,
          "output_type": "execute_result",
          "data": {
            "text/plain": "0.12162056875730426"
          },
          "metadata": {}
        }
      ]
    },
    {
      "cell_type": "code",
      "source": "kn_reg_dist_mse = mean_squared_error(y_test, knreg_dist_test_pred)\nkn_reg_dist_mse",
      "metadata": {
        "trusted": true
      },
      "execution_count": 44,
      "outputs": [
        {
          "execution_count": 44,
          "output_type": "execute_result",
          "data": {
            "text/plain": "0.07737874604293261"
          },
          "metadata": {}
        }
      ]
    },
    {
      "cell_type": "markdown",
      "source": "# Start Hypertune",
      "metadata": {}
    },
    {
      "cell_type": "code",
      "source": "from sklearn.model_selection import train_test_split\nxtrain, xtest, ytrain, ytest = train_test_split(X,y, random_state=43, test_size=.30)",
      "metadata": {
        "trusted": true
      },
      "execution_count": 47,
      "outputs": []
    },
    {
      "cell_type": "code",
      "source": "xtrain.shape",
      "metadata": {
        "trusted": true
      },
      "execution_count": 48,
      "outputs": [
        {
          "execution_count": 48,
          "output_type": "execute_result",
          "data": {
            "text/plain": "(5988, 2)"
          },
          "metadata": {}
        }
      ]
    },
    {
      "cell_type": "code",
      "source": "xtest.shape",
      "metadata": {
        "trusted": true
      },
      "execution_count": 49,
      "outputs": [
        {
          "execution_count": 49,
          "output_type": "execute_result",
          "data": {
            "text/plain": "(2567, 2)"
          },
          "metadata": {}
        }
      ]
    },
    {
      "cell_type": "markdown",
      "source": "# Random Forest",
      "metadata": {}
    },
    {
      "cell_type": "code",
      "source": "from sklearn.ensemble import RandomForestClassifier",
      "metadata": {
        "trusted": true
      },
      "execution_count": 52,
      "outputs": []
    },
    {
      "cell_type": "code",
      "source": "ran1 = RandomForestClassifier()",
      "metadata": {
        "trusted": true
      },
      "execution_count": 53,
      "outputs": []
    },
    {
      "cell_type": "code",
      "source": "ran1.fit(xtrain, ytrain)",
      "metadata": {
        "trusted": true
      },
      "execution_count": 54,
      "outputs": [
        {
          "execution_count": 54,
          "output_type": "execute_result",
          "data": {
            "text/plain": "RandomForestClassifier()"
          },
          "metadata": {}
        }
      ]
    },
    {
      "cell_type": "code",
      "source": "ran1.score(xtest,ytest)",
      "metadata": {
        "trusted": true
      },
      "execution_count": 55,
      "outputs": [
        {
          "execution_count": 55,
          "output_type": "execute_result",
          "data": {
            "text/plain": "0.9127386053759252"
          },
          "metadata": {}
        }
      ]
    },
    {
      "cell_type": "code",
      "source": "from sklearn.neighbors import KNeighborsClassifier",
      "metadata": {
        "trusted": true
      },
      "execution_count": 57,
      "outputs": []
    },
    {
      "cell_type": "code",
      "source": "kn = KNeighborsClassifier(n_neighbors=100)\nkn.fit(xtrain, ytrain)",
      "metadata": {
        "trusted": true
      },
      "execution_count": 58,
      "outputs": [
        {
          "execution_count": 58,
          "output_type": "execute_result",
          "data": {
            "text/plain": "KNeighborsClassifier(n_neighbors=100)"
          },
          "metadata": {}
        }
      ]
    },
    {
      "cell_type": "code",
      "source": "kn.score(xtest, ytest)",
      "metadata": {
        "trusted": true
      },
      "execution_count": 59,
      "outputs": [
        {
          "execution_count": 59,
          "output_type": "execute_result",
          "data": {
            "text/plain": "0.9224776003116478"
          },
          "metadata": {}
        }
      ]
    },
    {
      "cell_type": "code",
      "source": "import numpy as np\ntrees = [int(x) for x in np.linspace(start=15, stop=200, num=25)]",
      "metadata": {
        "trusted": true
      },
      "execution_count": 60,
      "outputs": []
    },
    {
      "cell_type": "code",
      "source": "total_tees = np.random.randint(15,200,25)",
      "metadata": {
        "trusted": true
      },
      "execution_count": 61,
      "outputs": []
    },
    {
      "cell_type": "code",
      "source": "total_tees",
      "metadata": {
        "trusted": true
      },
      "execution_count": 62,
      "outputs": [
        {
          "execution_count": 62,
          "output_type": "execute_result",
          "data": {
            "text/plain": "array([189,  92,  22, 166,  43,  81, 119,  71,  75,  43, 157,  58,  28,\n       157, 122, 127,  57,  53, 144, 119,  72, 160, 176, 165,  51])"
          },
          "metadata": {}
        }
      ]
    },
    {
      "cell_type": "code",
      "source": "criterions = ['gini','entropy']\nmin_samples_split = np.random.randint(1,3,10)\nmin_samples_leaf = [1,2]\nmax_features = ['sqrt', 'log2']",
      "metadata": {
        "trusted": true
      },
      "execution_count": 63,
      "outputs": []
    },
    {
      "cell_type": "code",
      "source": "grids = {\n    'n_estimators': total_tees,\n    'criterion':  criterions,\n    'min_samples_split': min_samples_split,\n    'min_samples_leaf' : min_samples_leaf,\n    'max_features' : max_features\n}\nprint(grids)",
      "metadata": {
        "trusted": true
      },
      "execution_count": 65,
      "outputs": [
        {
          "name": "stdout",
          "text": "{'n_estimators': array([189,  92,  22, 166,  43,  81, 119,  71,  75,  43, 157,  58,  28,\n       157, 122, 127,  57,  53, 144, 119,  72, 160, 176, 165,  51]), 'criterion': ['gini', 'entropy'], 'min_samples_split': array([2, 2, 1, 1, 2, 2, 2, 1, 1, 1]), 'min_samples_leaf': [1, 2], 'max_features': ['sqrt', 'log2']}\n",
          "output_type": "stream"
        }
      ]
    },
    {
      "cell_type": "markdown",
      "source": "# Randomized Search CV",
      "metadata": {}
    },
    {
      "cell_type": "code",
      "source": "from sklearn.model_selection import RandomizedSearchCV",
      "metadata": {
        "trusted": true
      },
      "execution_count": 66,
      "outputs": []
    },
    {
      "cell_type": "code",
      "source": "rando = RandomizedSearchCV(estimator=ran1, param_distributions=grids, n_iter=200, cv=3)",
      "metadata": {
        "trusted": true
      },
      "execution_count": 67,
      "outputs": []
    },
    {
      "cell_type": "code",
      "source": "rando",
      "metadata": {
        "trusted": true
      },
      "execution_count": 68,
      "outputs": [
        {
          "execution_count": 68,
          "output_type": "execute_result",
          "data": {
            "text/plain": "RandomizedSearchCV(cv=3, estimator=RandomForestClassifier(), n_iter=200,\n                   param_distributions={'criterion': ['gini', 'entropy'],\n                                        'max_features': ['sqrt', 'log2'],\n                                        'min_samples_leaf': [1, 2],\n                                        'min_samples_split': array([2, 2, 1, 1, 2, 2, 2, 1, 1, 1]),\n                                        'n_estimators': array([189,  92,  22, 166,  43,  81, 119,  71,  75,  43, 157,  58,  28,\n       157, 122, 127,  57,  53, 144, 119,  72, 160, 176, 165,  51])})"
          },
          "metadata": {}
        }
      ]
    },
    {
      "cell_type": "code",
      "source": "#rando.fit(xtrain, ytrain)",
      "metadata": {
        "trusted": true
      },
      "execution_count": 79,
      "outputs": []
    },
    {
      "cell_type": "code",
      "source": "rando.best_params_",
      "metadata": {
        "trusted": true
      },
      "execution_count": 80,
      "outputs": [
        {
          "execution_count": 80,
          "output_type": "execute_result",
          "data": {
            "text/plain": "{'n_estimators': 157,\n 'min_samples_split': 2,\n 'min_samples_leaf': 2,\n 'max_features': 'sqrt',\n 'criterion': 'gini'}"
          },
          "metadata": {}
        }
      ]
    },
    {
      "cell_type": "code",
      "source": "rando.cv_results_",
      "metadata": {
        "trusted": true
      },
      "execution_count": 81,
      "outputs": [
        {
          "execution_count": 81,
          "output_type": "execute_result",
          "data": {
            "text/plain": "{'mean_fit_time': array([0.37299999, 0.12933342, 0.62166683, 0.47766662, 0.08333325,\n        1.01066661, 0.11300008, 0.28200006, 0.11300008, 0.03733341,\n        0.10599995, 0.01866674, 0.03666663, 0.22166673, 0.47966647,\n        0.84933329, 0.1486667 , 1.13166666, 0.10599995, 0.08033331,\n        0.87433314, 0.87299999, 0.80100004, 0.40133333, 0.04333321,\n        1.21999979, 0.11333338, 0.08266664, 0.86733317, 0.1170001 ,\n        0.04800002, 0.23566667, 0.30533314, 0.02299992, 0.34433349,\n        0.13533338, 0.05600015, 0.29000004, 0.11899996, 0.05333336,\n        0.03899995, 0.46566661, 0.10666664, 1.19133337, 0.08199994,\n        0.1183331 , 0.11166644, 0.09766666, 1.06900001, 0.08333341,\n        0.67466656, 0.09999998, 0.10033337, 0.77066668, 0.05033326,\n        0.28899995, 0.03233329, 0.92599988, 0.60800004, 0.45900003,\n        0.77866658, 0.60833327, 0.03766672, 0.18500002, 0.28966681,\n        0.14433328, 0.45599993, 0.08600005, 0.28700002, 0.08733336,\n        0.78466686, 1.04966656, 0.0236667 , 0.0813334 , 0.12700001,\n        0.06400013, 0.10900005, 0.22499998, 1.21366676, 0.09699996,\n        0.08166655, 0.08100001, 0.36199991, 0.06400005, 0.64133342,\n        0.04166675, 0.47633346, 0.08066662, 0.11500025, 0.84666681,\n        1.09366663, 0.04166659, 0.48533336, 0.0563333 , 0.76466664,\n        0.59866659, 0.01966659, 0.08200002, 0.35966667, 0.11266669,\n        0.03766664, 0.18766665, 1.10166677, 0.12533347, 0.57600005,\n        0.01799997, 0.10566664, 0.81333319, 0.37866656, 0.84266671,\n        0.36766656, 0.10299985, 0.10933336, 0.61199983, 0.05333336,\n        0.74933346, 0.10433324, 0.83500012, 0.34899998, 0.03299999,\n        0.03833334, 0.81900009, 1.07433351, 0.03766664, 0.22299989,\n        0.94566647, 0.01833344, 0.48400013, 0.05066673, 0.10433332,\n        0.03766672, 0.03333338, 0.11733333, 0.10633326, 0.04100005,\n        0.03733325, 0.26133331, 0.05699992, 1.25700005, 0.99599997,\n        0.38366667, 0.26133331, 0.34966667, 0.08333333, 0.53266676,\n        0.0623335 , 0.25533342, 0.06433336, 0.03199991, 0.18466663,\n        0.77933335, 0.02300008, 0.13100012, 0.11999989, 0.05300005,\n        0.11133329, 0.39100003, 0.21500007, 1.19400001, 0.08533343,\n        0.0370001 , 0.78666663, 0.11233322, 0.36900012, 0.05833332,\n        0.19033329, 0.10433324, 0.625     , 0.44666656, 0.80499991,\n        0.45333322, 0.05366667, 1.04966672, 0.10999997, 0.05566661,\n        0.03733333, 1.10366662, 0.11066659, 0.1256667 , 0.05566669,\n        0.05366667, 0.84700004, 0.78533332, 0.1116666 , 0.38099988,\n        0.08066662, 0.11666671, 0.80133335, 0.3393333 , 0.93300001,\n        0.03166652, 0.82633328, 0.45933334, 0.72333336, 0.37766655,\n        0.19366662, 0.34066669, 0.11833342, 0.10799988, 0.03133337]),\n 'std_fit_time': array([8.16437410e-04, 2.05474598e-03, 8.37966733e-03, 5.24932147e-03,\n        1.24725618e-03, 1.16714737e-02, 8.16534738e-04, 7.87395192e-03,\n        8.16437433e-04, 4.71426560e-04, 8.16534753e-04, 4.71370354e-04,\n        4.71538951e-04, 1.24723493e-03, 1.69987729e-03, 7.13364028e-03,\n        9.42853099e-04, 6.23602598e-03, 1.41427965e-03, 4.71314168e-04,\n        1.59234816e-02, 2.04613231e-02, 1.57691290e-02, 1.88565000e-03,\n        9.42853099e-04, 2.71785115e-02, 3.29981726e-03, 1.24712873e-03,\n        1.39602569e-02, 1.41427965e-03, 2.82827832e-03, 1.11454979e-02,\n        1.77450364e-02, 1.63297214e-03, 9.80945397e-03, 3.29980120e-03,\n        1.41422345e-03, 6.48082281e-03, 8.16534753e-04, 4.71482786e-04,\n        2.24783192e-07, 5.24925081e-03, 4.71426560e-04, 4.92164928e-03,\n        1.12391596e-07, 4.71370354e-04, 3.29971290e-03, 4.71314168e-04,\n        1.63910495e-02, 4.71257962e-04, 1.32999543e-02, 1.41433584e-03,\n        1.60484456e-02, 1.21197029e-02, 4.71370354e-04, 3.74178975e-03,\n        4.71426560e-04, 1.57479038e-02, 2.16023749e-03, 5.09910194e-03,\n        6.64978793e-03, 2.62467084e-03, 4.71482745e-04, 5.09910194e-03,\n        3.77118761e-03, 2.05486201e-03, 6.16445711e-03, 1.12391596e-07,\n        1.41416726e-03, 4.71257962e-04, 3.77124381e-03, 1.43835829e-02,\n        9.42684517e-04, 4.71370394e-04, 8.16534738e-04, 8.16632070e-04,\n        4.32047496e-03, 2.94392288e-03, 1.15565794e-02, 1.12391596e-07,\n        1.69951881e-03, 1.12391596e-07, 4.96659488e-03, 8.16632078e-04,\n        1.24723493e-03, 4.71538951e-04, 8.99385063e-03, 4.71426560e-04,\n        1.63306947e-03, 2.49444862e-03, 1.18976603e-02, 4.71426560e-04,\n        6.12837656e-03, 4.71370354e-04, 6.23613218e-03, 4.02767947e-03,\n        4.71314168e-04, 8.16437402e-04, 4.71426560e-04, 9.42853099e-04,\n        4.71426560e-04, 3.68171442e-03, 1.80060554e-02, 9.42853099e-04,\n        6.68344650e-03, 2.24783192e-07, 9.42909300e-04, 5.18552346e-03,\n        3.09120493e-03, 4.18990322e-03, 3.39950519e-03, 1.12391596e-07,\n        1.24723493e-03, 1.80556316e-02, 1.24723493e-03, 2.42257879e-02,\n        1.24723493e-03, 2.21057894e-02, 3.74176852e-03, 0.00000000e+00,\n        4.71426560e-04, 2.98776179e-02, 5.24936184e-03, 4.71426560e-04,\n        3.26604161e-03, 1.00775017e-02, 4.71370354e-04, 9.20156821e-03,\n        4.71482745e-04, 9.42853099e-04, 4.71482786e-04, 4.71314168e-04,\n        3.85862784e-03, 4.71370354e-04, 2.24783192e-07, 4.71370354e-04,\n        4.71314168e-04, 0.00000000e+00, 1.20830647e-02, 5.65683762e-03,\n        4.71415310e-03, 1.69976818e-03, 3.85862784e-03, 4.71482745e-04,\n        6.01849397e-03, 4.71257962e-04, 6.34220342e-03, 1.24714998e-03,\n        8.16534738e-04, 3.09116208e-03, 1.69969026e-03, 1.12391596e-07,\n        1.12391596e-07, 3.74157735e-03, 8.16534738e-04, 1.24721369e-03,\n        7.34852062e-03, 2.82844691e-03, 1.15181569e-02, 9.42796908e-04,\n        8.16632078e-04, 1.35972882e-02, 1.69965908e-03, 6.48067566e-03,\n        2.62470110e-03, 8.95670516e-03, 9.42965491e-04, 3.74151364e-03,\n        6.18236701e-03, 3.74159860e-03, 6.12826417e-03, 4.71426560e-04,\n        2.08539391e-02, 8.16437410e-04, 4.71482745e-04, 9.42796908e-04,\n        9.80926493e-03, 9.42853099e-04, 4.71426560e-04, 4.71370354e-04,\n        1.24721369e-03, 9.89945981e-03, 1.10854061e-02, 1.24723493e-03,\n        5.65689381e-03, 4.71426560e-04, 2.05475888e-03, 1.00773413e-02,\n        3.68190869e-03, 1.72820470e-02, 4.71538951e-04, 2.62463046e-03,\n        6.54897569e-03, 4.71404071e-03, 4.10960799e-03, 5.43651255e-03,\n        1.88576240e-03, 4.02765974e-03, 8.16340070e-04, 4.71426560e-04]),\n 'mean_score_time': array([0.02633341, 0.        , 0.04033327, 0.03966665, 0.        ,\n        0.06600006, 0.        , 0.02466663, 0.        , 0.        ,\n        0.        , 0.        , 0.        , 0.02033329, 0.03966689,\n        0.05333336, 0.012     , 0.07333326, 0.        , 0.        ,\n        0.07666667, 0.07100002, 0.05133343, 0.02666672, 0.        ,\n        0.07766676, 0.        , 0.        , 0.05866687, 0.        ,\n        0.        , 0.0213333 , 0.02166692, 0.        , 0.02433324,\n        0.        , 0.        , 0.01999998, 0.        , 0.        ,\n        0.        , 0.03100006, 0.        , 0.07566675, 0.        ,\n        0.        , 0.        , 0.        , 0.06766661, 0.        ,\n        0.05466676, 0.        , 0.        , 0.05033342, 0.        ,\n        0.02099999, 0.        , 0.06066672, 0.05099988, 0.03166676,\n        0.05166666, 0.05166674, 0.        , 0.01399994, 0.01966667,\n        0.01166662, 0.03133337, 0.        , 0.02533333, 0.        ,\n        0.06566644, 0.06566676, 0.        , 0.        , 0.        ,\n        0.        , 0.        , 0.01999998, 0.07933338, 0.        ,\n        0.        , 0.        , 0.03133345, 0.        , 0.05399998,\n        0.        , 0.03099982, 0.        , 0.01199985, 0.06966662,\n        0.06866662, 0.        , 0.03299983, 0.        , 0.04999995,\n        0.05033342, 0.        , 0.        , 0.03199999, 0.        ,\n        0.        , 0.0140001 , 0.07166656, 0.        , 0.03833326,\n        0.        , 0.        , 0.06700007, 0.0253334 , 0.06833339,\n        0.03233337, 0.        , 0.        , 0.03866673, 0.        ,\n        0.06266665, 0.        , 0.05266658, 0.02400009, 0.        ,\n        0.        , 0.06833323, 0.06933324, 0.        , 0.01966683,\n        0.07800015, 0.        , 0.03333322, 0.        , 0.        ,\n        0.        , 0.        , 0.        , 0.        , 0.        ,\n        0.        , 0.02266661, 0.        , 0.0783333 , 0.06500006,\n        0.03300007, 0.02233338, 0.02333331, 0.        , 0.03466654,\n        0.        , 0.02366654, 0.        , 0.        , 0.01333332,\n        0.06633337, 0.        , 0.        , 0.        , 0.        ,\n        0.        , 0.03300007, 0.01966659, 0.0776666 , 0.        ,\n        0.        , 0.05033334, 0.01100008, 0.03199991, 0.        ,\n        0.01366671, 0.        , 0.05233312, 0.03033336, 0.06533345,\n        0.03100006, 0.        , 0.0656666 , 0.        , 0.        ,\n        0.        , 0.07000001, 0.        , 0.        , 0.        ,\n        0.        , 0.05366667, 0.05033326, 0.        , 0.02533333,\n        0.        , 0.01133339, 0.06633329, 0.02333315, 0.06166665,\n        0.        , 0.06766677, 0.03100014, 0.06000002, 0.02566671,\n        0.0146668 , 0.02400001, 0.        , 0.01066677, 0.        ]),\n 'std_score_time': array([4.71314168e-04, 0.00000000e+00, 4.71370354e-04, 4.71370354e-04,\n        0.00000000e+00, 8.16534738e-04, 0.00000000e+00, 4.71426560e-04,\n        0.00000000e+00, 0.00000000e+00, 0.00000000e+00, 0.00000000e+00,\n        0.00000000e+00, 4.71370354e-04, 4.71370354e-04, 4.71314168e-04,\n        1.12391596e-07, 4.71370354e-04, 0.00000000e+00, 0.00000000e+00,\n        4.49703430e-03, 8.16340070e-04, 4.71370354e-04, 9.42684517e-04,\n        0.00000000e+00, 3.09116208e-03, 0.00000000e+00, 0.00000000e+00,\n        2.49434242e-03, 0.00000000e+00, 0.00000000e+00, 1.24710750e-03,\n        4.71482745e-04, 0.00000000e+00, 9.42740707e-04, 0.00000000e+00,\n        0.00000000e+00, 0.00000000e+00, 0.00000000e+00, 0.00000000e+00,\n        0.00000000e+00, 8.16534738e-04, 0.00000000e+00, 2.35696416e-03,\n        0.00000000e+00, 0.00000000e+00, 0.00000000e+00, 0.00000000e+00,\n        9.42853099e-04, 0.00000000e+00, 1.69973701e-03, 0.00000000e+00,\n        0.00000000e+00, 1.69965908e-03, 0.00000000e+00, 1.41416726e-03,\n        0.00000000e+00, 4.71482786e-04, 8.16534753e-04, 4.71370354e-04,\n        1.69976818e-03, 1.69969026e-03, 0.00000000e+00, 1.94667955e-07,\n        4.71370354e-04, 4.71257962e-04, 4.71426560e-04, 0.00000000e+00,\n        4.71258002e-04, 0.00000000e+00, 1.69954998e-03, 4.71426560e-04,\n        0.00000000e+00, 0.00000000e+00, 0.00000000e+00, 0.00000000e+00,\n        0.00000000e+00, 8.16437402e-04, 1.24704377e-03, 0.00000000e+00,\n        0.00000000e+00, 0.00000000e+00, 1.24731989e-03, 0.00000000e+00,\n        1.63297214e-03, 0.00000000e+00, 1.12391596e-07, 0.00000000e+00,\n        8.16437402e-04, 9.42909300e-04, 4.71314168e-04, 0.00000000e+00,\n        8.16340070e-04, 0.00000000e+00, 8.16534753e-04, 9.42853099e-04,\n        0.00000000e+00, 0.00000000e+00, 8.16437410e-04, 0.00000000e+00,\n        0.00000000e+00, 1.12391596e-07, 5.18552346e-03, 0.00000000e+00,\n        4.71482745e-04, 0.00000000e+00, 0.00000000e+00, 1.12391596e-07,\n        4.71201776e-04, 1.88565000e-03, 4.71370354e-04, 0.00000000e+00,\n        0.00000000e+00, 4.71370354e-04, 0.00000000e+00, 2.62463046e-03,\n        0.00000000e+00, 4.71482745e-04, 1.12391596e-07, 0.00000000e+00,\n        0.00000000e+00, 1.24723493e-03, 4.71426560e-04, 0.00000000e+00,\n        4.71482745e-04, 2.24783192e-07, 0.00000000e+00, 4.71426560e-04,\n        0.00000000e+00, 0.00000000e+00, 0.00000000e+00, 0.00000000e+00,\n        0.00000000e+00, 0.00000000e+00, 0.00000000e+00, 0.00000000e+00,\n        4.71482745e-04, 0.00000000e+00, 4.71426560e-04, 8.16632070e-04,\n        8.16437410e-04, 4.71370354e-04, 4.71370354e-04, 0.00000000e+00,\n        4.71538951e-04, 0.00000000e+00, 9.42796908e-04, 0.00000000e+00,\n        0.00000000e+00, 4.71370354e-04, 1.24710750e-03, 0.00000000e+00,\n        0.00000000e+00, 0.00000000e+00, 0.00000000e+00, 0.00000000e+00,\n        8.16534738e-04, 4.71482745e-04, 9.42853099e-04, 0.00000000e+00,\n        0.00000000e+00, 4.71482745e-04, 1.12391596e-07, 8.16534738e-04,\n        0.00000000e+00, 4.71426560e-04, 0.00000000e+00, 4.71538951e-04,\n        4.71482745e-04, 4.71482745e-04, 1.12391596e-07, 0.00000000e+00,\n        1.69976818e-03, 0.00000000e+00, 0.00000000e+00, 0.00000000e+00,\n        8.16437410e-04, 0.00000000e+00, 0.00000000e+00, 0.00000000e+00,\n        0.00000000e+00, 9.42853099e-04, 4.71538951e-04, 0.00000000e+00,\n        4.71426560e-04, 0.00000000e+00, 4.71426560e-04, 4.71370354e-04,\n        4.71482745e-04, 2.05475888e-03, 0.00000000e+00, 9.42909300e-04,\n        0.00000000e+00, 8.16534738e-04, 4.71538951e-04, 4.71370354e-04,\n        8.16340070e-04, 0.00000000e+00, 4.71314168e-04, 0.00000000e+00]),\n 'param_n_estimators': masked_array(data=[57, 189, 92, 92, 122, 157, 160, 53, 166, 51, 157, 22,\n                    51, 43, 92, 127, 22, 176, 157, 119, 166, 166, 119, 58,\n                    58, 176, 165, 119, 127, 157, 57, 43, 43, 22, 51, 189,\n                    71, 43, 176, 75, 53, 72, 157, 176, 119, 176, 160, 144,\n                    160, 122, 127, 144, 127, 119, 71, 43, 43, 144, 119, 72,\n                    122, 122, 51, 28, 43, 22, 71, 127, 57, 127, 157, 157,\n                    28, 119, 189, 92, 157, 43, 189, 144, 119, 119, 72, 92,\n                    127, 57, 71, 119, 22, 165, 165, 57, 75, 81, 119, 119,\n                    22, 119, 72, 166, 51, 28, 166, 189, 92, 22, 160, 166,\n                    58, 166, 75, 157, 166, 92, 75, 144, 144, 122, 53, 43,\n                    51, 157, 166, 51, 43, 189, 22, 75, 72, 157, 51, 43,\n                    166, 157, 57, 51, 51, 81, 189, 157, 75, 51, 53, 122,\n                    81, 92, 51, 92, 43, 28, 157, 28, 189, 176, 75, 166, 75,\n                    43, 189, 127, 51, 119, 22, 71, 81, 28, 160, 127, 71,\n                    157, 71, 75, 157, 166, 81, 51, 166, 165, 189, 81, 75,\n                    127, 122, 166, 57, 119, 22, 160, 53, 144, 43, 160, 72,\n                    144, 57, 28, 53, 176, 22, 43],\n              mask=[False, False, False, False, False, False, False, False,\n                    False, False, False, False, False, False, False, False,\n                    False, False, False, False, False, False, False, False,\n                    False, False, False, False, False, False, False, False,\n                    False, False, False, False, False, False, False, False,\n                    False, False, False, False, False, False, False, False,\n                    False, False, False, False, False, False, False, False,\n                    False, False, False, False, False, False, False, False,\n                    False, False, False, False, False, False, False, False,\n                    False, False, False, False, False, False, False, False,\n                    False, False, False, False, False, False, False, False,\n                    False, False, False, False, False, False, False, False,\n                    False, False, False, False, False, False, False, False,\n                    False, False, False, False, False, False, False, False,\n                    False, False, False, False, False, False, False, False,\n                    False, False, False, False, False, False, False, False,\n                    False, False, False, False, False, False, False, False,\n                    False, False, False, False, False, False, False, False,\n                    False, False, False, False, False, False, False, False,\n                    False, False, False, False, False, False, False, False,\n                    False, False, False, False, False, False, False, False,\n                    False, False, False, False, False, False, False, False,\n                    False, False, False, False, False, False, False, False,\n                    False, False, False, False, False, False, False, False,\n                    False, False, False, False, False, False, False, False],\n        fill_value='?',\n             dtype=object),\n 'param_min_samples_split': masked_array(data=[2, 1, 2, 2, 1, 2, 1, 2, 1, 1, 1, 1, 1, 2, 2, 2, 2, 2,\n                    1, 1, 2, 2, 2, 2, 1, 2, 1, 1, 2, 1, 1, 2, 2, 1, 2, 1,\n                    1, 2, 1, 1, 1, 2, 1, 2, 1, 1, 1, 1, 2, 1, 2, 1, 1, 2,\n                    1, 2, 1, 2, 2, 2, 2, 2, 1, 2, 2, 2, 2, 1, 2, 1, 2, 2,\n                    1, 1, 1, 1, 1, 2, 2, 1, 1, 1, 2, 1, 2, 1, 2, 1, 2, 2,\n                    2, 1, 2, 1, 2, 2, 1, 1, 2, 1, 1, 2, 2, 1, 2, 1, 1, 2,\n                    2, 2, 2, 1, 1, 2, 1, 2, 1, 2, 2, 1, 1, 2, 2, 1, 2, 2,\n                    1, 2, 1, 1, 1, 1, 1, 1, 1, 1, 2, 1, 2, 2, 2, 2, 2, 1,\n                    2, 1, 2, 1, 1, 2, 2, 1, 1, 1, 1, 1, 2, 2, 2, 1, 1, 2,\n                    2, 2, 1, 2, 1, 2, 2, 2, 2, 1, 2, 1, 1, 1, 2, 1, 1, 1,\n                    1, 2, 2, 1, 2, 1, 2, 2, 2, 2, 1, 2, 2, 2, 2, 2, 2, 1,\n                    2, 1],\n              mask=[False, False, False, False, False, False, False, False,\n                    False, False, False, False, False, False, False, False,\n                    False, False, False, False, False, False, False, False,\n                    False, False, False, False, False, False, False, False,\n                    False, False, False, False, False, False, False, False,\n                    False, False, False, False, False, False, False, False,\n                    False, False, False, False, False, False, False, False,\n                    False, False, False, False, False, False, False, False,\n                    False, False, False, False, False, False, False, False,\n                    False, False, False, False, False, False, False, False,\n                    False, False, False, False, False, False, False, False,\n                    False, False, False, False, False, False, False, False,\n                    False, False, False, False, False, False, False, False,\n                    False, False, False, False, False, False, False, False,\n                    False, False, False, False, False, False, False, False,\n                    False, False, False, False, False, False, False, False,\n                    False, False, False, False, False, False, False, False,\n                    False, False, False, False, False, False, False, False,\n                    False, False, False, False, False, False, False, False,\n                    False, False, False, False, False, False, False, False,\n                    False, False, False, False, False, False, False, False,\n                    False, False, False, False, False, False, False, False,\n                    False, False, False, False, False, False, False, False,\n                    False, False, False, False, False, False, False, False,\n                    False, False, False, False, False, False, False, False],\n        fill_value='?',\n             dtype=object),\n 'param_min_samples_leaf': masked_array(data=[2, 1, 1, 1, 1, 2, 1, 1, 2, 1, 2, 2, 2, 1, 1, 1, 1, 2,\n                    1, 1, 1, 1, 1, 1, 1, 1, 1, 1, 1, 2, 1, 2, 1, 1, 2, 2,\n                    2, 1, 2, 1, 1, 2, 1, 1, 1, 2, 2, 1, 1, 1, 1, 2, 1, 2,\n                    1, 1, 2, 2, 1, 2, 2, 2, 1, 2, 1, 2, 2, 1, 2, 1, 2, 1,\n                    2, 1, 1, 2, 2, 1, 2, 1, 1, 2, 2, 2, 2, 2, 1, 2, 2, 1,\n                    1, 2, 2, 2, 2, 2, 2, 2, 2, 1, 1, 1, 1, 1, 2, 1, 2, 2,\n                    1, 1, 2, 1, 1, 1, 2, 1, 1, 1, 1, 1, 2, 2, 2, 1, 1, 2,\n                    2, 2, 1, 1, 1, 1, 2, 1, 1, 2, 1, 1, 1, 2, 2, 1, 1, 1,\n                    1, 1, 2, 1, 2, 1, 2, 1, 2, 1, 2, 2, 1, 2, 2, 2, 1, 1,\n                    2, 1, 2, 1, 2, 2, 2, 1, 2, 2, 1, 2, 2, 1, 1, 2, 1, 1,\n                    1, 1, 2, 2, 1, 1, 1, 2, 2, 2, 2, 1, 2, 2, 1, 1, 2, 2,\n                    2, 1],\n              mask=[False, False, False, False, False, False, False, False,\n                    False, False, False, False, False, False, False, False,\n                    False, False, False, False, False, False, False, False,\n                    False, False, False, False, False, False, False, False,\n                    False, False, False, False, False, False, False, False,\n                    False, False, False, False, False, False, False, False,\n                    False, False, False, False, False, False, False, False,\n                    False, False, False, False, False, False, False, False,\n                    False, False, False, False, False, False, False, False,\n                    False, False, False, False, False, False, False, False,\n                    False, False, False, False, False, False, False, False,\n                    False, False, False, False, False, False, False, False,\n                    False, False, False, False, False, False, False, False,\n                    False, False, False, False, False, False, False, False,\n                    False, False, False, False, False, False, False, False,\n                    False, False, False, False, False, False, False, False,\n                    False, False, False, False, False, False, False, False,\n                    False, False, False, False, False, False, False, False,\n                    False, False, False, False, False, False, False, False,\n                    False, False, False, False, False, False, False, False,\n                    False, False, False, False, False, False, False, False,\n                    False, False, False, False, False, False, False, False,\n                    False, False, False, False, False, False, False, False,\n                    False, False, False, False, False, False, False, False,\n                    False, False, False, False, False, False, False, False],\n        fill_value='?',\n             dtype=object),\n 'param_max_features': masked_array(data=['sqrt', 'sqrt', 'sqrt', 'log2', 'sqrt', 'sqrt', 'log2',\n                    'sqrt', 'sqrt', 'log2', 'log2', 'log2', 'sqrt', 'sqrt',\n                    'sqrt', 'log2', 'log2', 'log2', 'sqrt', 'log2', 'log2',\n                    'sqrt', 'sqrt', 'log2', 'log2', 'log2', 'sqrt', 'sqrt',\n                    'log2', 'sqrt', 'sqrt', 'sqrt', 'log2', 'log2', 'sqrt',\n                    'sqrt', 'log2', 'log2', 'log2', 'sqrt', 'log2', 'log2',\n                    'log2', 'log2', 'log2', 'sqrt', 'log2', 'sqrt', 'log2',\n                    'sqrt', 'sqrt', 'log2', 'log2', 'log2', 'log2', 'sqrt',\n                    'log2', 'sqrt', 'log2', 'sqrt', 'log2', 'log2', 'sqrt',\n                    'sqrt', 'log2', 'log2', 'sqrt', 'log2', 'log2', 'log2',\n                    'sqrt', 'sqrt', 'sqrt', 'log2', 'sqrt', 'log2', 'log2',\n                    'log2', 'sqrt', 'log2', 'log2', 'log2', 'log2', 'log2',\n                    'log2', 'log2', 'sqrt', 'sqrt', 'sqrt', 'log2', 'log2',\n                    'sqrt', 'log2', 'log2', 'log2', 'log2', 'sqrt', 'sqrt',\n                    'sqrt', 'sqrt', 'log2', 'log2', 'sqrt', 'sqrt', 'sqrt',\n                    'log2', 'sqrt', 'sqrt', 'sqrt', 'log2', 'log2', 'sqrt',\n                    'log2', 'sqrt', 'log2', 'sqrt', 'sqrt', 'sqrt', 'log2',\n                    'log2', 'log2', 'log2', 'sqrt', 'sqrt', 'log2', 'log2',\n                    'sqrt', 'sqrt', 'sqrt', 'log2', 'sqrt', 'sqrt', 'sqrt',\n                    'log2', 'sqrt', 'log2', 'sqrt', 'sqrt', 'sqrt', 'log2',\n                    'sqrt', 'log2', 'sqrt', 'log2', 'sqrt', 'log2', 'sqrt',\n                    'sqrt', 'sqrt', 'log2', 'sqrt', 'sqrt', 'sqrt', 'log2',\n                    'sqrt', 'sqrt', 'log2', 'log2', 'log2', 'log2', 'log2',\n                    'sqrt', 'sqrt', 'log2', 'log2', 'sqrt', 'log2', 'log2',\n                    'log2', 'sqrt', 'sqrt', 'log2', 'sqrt', 'sqrt', 'log2',\n                    'log2', 'log2', 'log2', 'sqrt', 'sqrt', 'sqrt', 'log2',\n                    'log2', 'log2', 'sqrt', 'sqrt', 'log2', 'sqrt', 'sqrt',\n                    'log2', 'log2', 'sqrt', 'log2', 'sqrt', 'log2', 'log2',\n                    'log2', 'log2', 'log2', 'log2'],\n              mask=[False, False, False, False, False, False, False, False,\n                    False, False, False, False, False, False, False, False,\n                    False, False, False, False, False, False, False, False,\n                    False, False, False, False, False, False, False, False,\n                    False, False, False, False, False, False, False, False,\n                    False, False, False, False, False, False, False, False,\n                    False, False, False, False, False, False, False, False,\n                    False, False, False, False, False, False, False, False,\n                    False, False, False, False, False, False, False, False,\n                    False, False, False, False, False, False, False, False,\n                    False, False, False, False, False, False, False, False,\n                    False, False, False, False, False, False, False, False,\n                    False, False, False, False, False, False, False, False,\n                    False, False, False, False, False, False, False, False,\n                    False, False, False, False, False, False, False, False,\n                    False, False, False, False, False, False, False, False,\n                    False, False, False, False, False, False, False, False,\n                    False, False, False, False, False, False, False, False,\n                    False, False, False, False, False, False, False, False,\n                    False, False, False, False, False, False, False, False,\n                    False, False, False, False, False, False, False, False,\n                    False, False, False, False, False, False, False, False,\n                    False, False, False, False, False, False, False, False,\n                    False, False, False, False, False, False, False, False,\n                    False, False, False, False, False, False, False, False],\n        fill_value='?',\n             dtype=object),\n 'param_criterion': masked_array(data=['entropy', 'entropy', 'entropy', 'gini', 'entropy',\n                    'entropy', 'entropy', 'gini', 'entropy', 'gini',\n                    'entropy', 'entropy', 'entropy', 'gini', 'gini',\n                    'entropy', 'entropy', 'entropy', 'entropy', 'entropy',\n                    'gini', 'gini', 'entropy', 'entropy', 'entropy',\n                    'entropy', 'entropy', 'gini', 'entropy', 'gini',\n                    'gini', 'gini', 'entropy', 'entropy', 'entropy',\n                    'gini', 'entropy', 'entropy', 'gini', 'gini', 'gini',\n                    'entropy', 'entropy', 'entropy', 'entropy', 'gini',\n                    'entropy', 'gini', 'entropy', 'entropy', 'gini',\n                    'gini', 'entropy', 'entropy', 'gini', 'entropy',\n                    'gini', 'entropy', 'gini', 'entropy', 'entropy',\n                    'gini', 'entropy', 'entropy', 'entropy', 'entropy',\n                    'entropy', 'gini', 'gini', 'entropy', 'gini',\n                    'entropy', 'entropy', 'entropy', 'entropy', 'gini',\n                    'gini', 'gini', 'entropy', 'gini', 'gini', 'gini',\n                    'gini', 'gini', 'gini', 'entropy', 'entropy',\n                    'entropy', 'gini', 'gini', 'entropy', 'entropy',\n                    'entropy', 'gini', 'entropy', 'gini', 'gini', 'gini',\n                    'gini', 'gini', 'entropy', 'entropy', 'entropy',\n                    'entropy', 'entropy', 'gini', 'gini', 'gini',\n                    'entropy', 'gini', 'gini', 'gini', 'gini', 'entropy',\n                    'entropy', 'gini', 'entropy', 'entropy', 'entropy',\n                    'gini', 'gini', 'gini', 'entropy', 'entropy', 'gini',\n                    'gini', 'entropy', 'entropy', 'gini', 'gini', 'gini',\n                    'gini', 'gini', 'gini', 'entropy', 'entropy', 'gini',\n                    'entropy', 'entropy', 'entropy', 'gini', 'gini',\n                    'entropy', 'entropy', 'entropy', 'gini', 'gini',\n                    'entropy', 'gini', 'entropy', 'gini', 'gini',\n                    'entropy', 'entropy', 'gini', 'entropy', 'gini',\n                    'gini', 'entropy', 'gini', 'entropy', 'entropy',\n                    'gini', 'gini', 'gini', 'entropy', 'gini', 'gini',\n                    'entropy', 'gini', 'entropy', 'entropy', 'entropy',\n                    'entropy', 'entropy', 'entropy', 'entropy', 'entropy',\n                    'gini', 'gini', 'gini', 'entropy', 'entropy',\n                    'entropy', 'entropy', 'gini', 'gini', 'gini',\n                    'entropy', 'entropy', 'entropy', 'gini', 'entropy',\n                    'gini', 'entropy', 'entropy', 'entropy', 'entropy',\n                    'gini', 'entropy'],\n              mask=[False, False, False, False, False, False, False, False,\n                    False, False, False, False, False, False, False, False,\n                    False, False, False, False, False, False, False, False,\n                    False, False, False, False, False, False, False, False,\n                    False, False, False, False, False, False, False, False,\n                    False, False, False, False, False, False, False, False,\n                    False, False, False, False, False, False, False, False,\n                    False, False, False, False, False, False, False, False,\n                    False, False, False, False, False, False, False, False,\n                    False, False, False, False, False, False, False, False,\n                    False, False, False, False, False, False, False, False,\n                    False, False, False, False, False, False, False, False,\n                    False, False, False, False, False, False, False, False,\n                    False, False, False, False, False, False, False, False,\n                    False, False, False, False, False, False, False, False,\n                    False, False, False, False, False, False, False, False,\n                    False, False, False, False, False, False, False, False,\n                    False, False, False, False, False, False, False, False,\n                    False, False, False, False, False, False, False, False,\n                    False, False, False, False, False, False, False, False,\n                    False, False, False, False, False, False, False, False,\n                    False, False, False, False, False, False, False, False,\n                    False, False, False, False, False, False, False, False,\n                    False, False, False, False, False, False, False, False,\n                    False, False, False, False, False, False, False, False],\n        fill_value='?',\n             dtype=object),\n 'params': [{'n_estimators': 57,\n   'min_samples_split': 2,\n   'min_samples_leaf': 2,\n   'max_features': 'sqrt',\n   'criterion': 'entropy'},\n  {'n_estimators': 189,\n   'min_samples_split': 1,\n   'min_samples_leaf': 1,\n   'max_features': 'sqrt',\n   'criterion': 'entropy'},\n  {'n_estimators': 92,\n   'min_samples_split': 2,\n   'min_samples_leaf': 1,\n   'max_features': 'sqrt',\n   'criterion': 'entropy'},\n  {'n_estimators': 92,\n   'min_samples_split': 2,\n   'min_samples_leaf': 1,\n   'max_features': 'log2',\n   'criterion': 'gini'},\n  {'n_estimators': 122,\n   'min_samples_split': 1,\n   'min_samples_leaf': 1,\n   'max_features': 'sqrt',\n   'criterion': 'entropy'},\n  {'n_estimators': 157,\n   'min_samples_split': 2,\n   'min_samples_leaf': 2,\n   'max_features': 'sqrt',\n   'criterion': 'entropy'},\n  {'n_estimators': 160,\n   'min_samples_split': 1,\n   'min_samples_leaf': 1,\n   'max_features': 'log2',\n   'criterion': 'entropy'},\n  {'n_estimators': 53,\n   'min_samples_split': 2,\n   'min_samples_leaf': 1,\n   'max_features': 'sqrt',\n   'criterion': 'gini'},\n  {'n_estimators': 166,\n   'min_samples_split': 1,\n   'min_samples_leaf': 2,\n   'max_features': 'sqrt',\n   'criterion': 'entropy'},\n  {'n_estimators': 51,\n   'min_samples_split': 1,\n   'min_samples_leaf': 1,\n   'max_features': 'log2',\n   'criterion': 'gini'},\n  {'n_estimators': 157,\n   'min_samples_split': 1,\n   'min_samples_leaf': 2,\n   'max_features': 'log2',\n   'criterion': 'entropy'},\n  {'n_estimators': 22,\n   'min_samples_split': 1,\n   'min_samples_leaf': 2,\n   'max_features': 'log2',\n   'criterion': 'entropy'},\n  {'n_estimators': 51,\n   'min_samples_split': 1,\n   'min_samples_leaf': 2,\n   'max_features': 'sqrt',\n   'criterion': 'entropy'},\n  {'n_estimators': 43,\n   'min_samples_split': 2,\n   'min_samples_leaf': 1,\n   'max_features': 'sqrt',\n   'criterion': 'gini'},\n  {'n_estimators': 92,\n   'min_samples_split': 2,\n   'min_samples_leaf': 1,\n   'max_features': 'sqrt',\n   'criterion': 'gini'},\n  {'n_estimators': 127,\n   'min_samples_split': 2,\n   'min_samples_leaf': 1,\n   'max_features': 'log2',\n   'criterion': 'entropy'},\n  {'n_estimators': 22,\n   'min_samples_split': 2,\n   'min_samples_leaf': 1,\n   'max_features': 'log2',\n   'criterion': 'entropy'},\n  {'n_estimators': 176,\n   'min_samples_split': 2,\n   'min_samples_leaf': 2,\n   'max_features': 'log2',\n   'criterion': 'entropy'},\n  {'n_estimators': 157,\n   'min_samples_split': 1,\n   'min_samples_leaf': 1,\n   'max_features': 'sqrt',\n   'criterion': 'entropy'},\n  {'n_estimators': 119,\n   'min_samples_split': 1,\n   'min_samples_leaf': 1,\n   'max_features': 'log2',\n   'criterion': 'entropy'},\n  {'n_estimators': 166,\n   'min_samples_split': 2,\n   'min_samples_leaf': 1,\n   'max_features': 'log2',\n   'criterion': 'gini'},\n  {'n_estimators': 166,\n   'min_samples_split': 2,\n   'min_samples_leaf': 1,\n   'max_features': 'sqrt',\n   'criterion': 'gini'},\n  {'n_estimators': 119,\n   'min_samples_split': 2,\n   'min_samples_leaf': 1,\n   'max_features': 'sqrt',\n   'criterion': 'entropy'},\n  {'n_estimators': 58,\n   'min_samples_split': 2,\n   'min_samples_leaf': 1,\n   'max_features': 'log2',\n   'criterion': 'entropy'},\n  {'n_estimators': 58,\n   'min_samples_split': 1,\n   'min_samples_leaf': 1,\n   'max_features': 'log2',\n   'criterion': 'entropy'},\n  {'n_estimators': 176,\n   'min_samples_split': 2,\n   'min_samples_leaf': 1,\n   'max_features': 'log2',\n   'criterion': 'entropy'},\n  {'n_estimators': 165,\n   'min_samples_split': 1,\n   'min_samples_leaf': 1,\n   'max_features': 'sqrt',\n   'criterion': 'entropy'},\n  {'n_estimators': 119,\n   'min_samples_split': 1,\n   'min_samples_leaf': 1,\n   'max_features': 'sqrt',\n   'criterion': 'gini'},\n  {'n_estimators': 127,\n   'min_samples_split': 2,\n   'min_samples_leaf': 1,\n   'max_features': 'log2',\n   'criterion': 'entropy'},\n  {'n_estimators': 157,\n   'min_samples_split': 1,\n   'min_samples_leaf': 2,\n   'max_features': 'sqrt',\n   'criterion': 'gini'},\n  {'n_estimators': 57,\n   'min_samples_split': 1,\n   'min_samples_leaf': 1,\n   'max_features': 'sqrt',\n   'criterion': 'gini'},\n  {'n_estimators': 43,\n   'min_samples_split': 2,\n   'min_samples_leaf': 2,\n   'max_features': 'sqrt',\n   'criterion': 'gini'},\n  {'n_estimators': 43,\n   'min_samples_split': 2,\n   'min_samples_leaf': 1,\n   'max_features': 'log2',\n   'criterion': 'entropy'},\n  {'n_estimators': 22,\n   'min_samples_split': 1,\n   'min_samples_leaf': 1,\n   'max_features': 'log2',\n   'criterion': 'entropy'},\n  {'n_estimators': 51,\n   'min_samples_split': 2,\n   'min_samples_leaf': 2,\n   'max_features': 'sqrt',\n   'criterion': 'entropy'},\n  {'n_estimators': 189,\n   'min_samples_split': 1,\n   'min_samples_leaf': 2,\n   'max_features': 'sqrt',\n   'criterion': 'gini'},\n  {'n_estimators': 71,\n   'min_samples_split': 1,\n   'min_samples_leaf': 2,\n   'max_features': 'log2',\n   'criterion': 'entropy'},\n  {'n_estimators': 43,\n   'min_samples_split': 2,\n   'min_samples_leaf': 1,\n   'max_features': 'log2',\n   'criterion': 'entropy'},\n  {'n_estimators': 176,\n   'min_samples_split': 1,\n   'min_samples_leaf': 2,\n   'max_features': 'log2',\n   'criterion': 'gini'},\n  {'n_estimators': 75,\n   'min_samples_split': 1,\n   'min_samples_leaf': 1,\n   'max_features': 'sqrt',\n   'criterion': 'gini'},\n  {'n_estimators': 53,\n   'min_samples_split': 1,\n   'min_samples_leaf': 1,\n   'max_features': 'log2',\n   'criterion': 'gini'},\n  {'n_estimators': 72,\n   'min_samples_split': 2,\n   'min_samples_leaf': 2,\n   'max_features': 'log2',\n   'criterion': 'entropy'},\n  {'n_estimators': 157,\n   'min_samples_split': 1,\n   'min_samples_leaf': 1,\n   'max_features': 'log2',\n   'criterion': 'entropy'},\n  {'n_estimators': 176,\n   'min_samples_split': 2,\n   'min_samples_leaf': 1,\n   'max_features': 'log2',\n   'criterion': 'entropy'},\n  {'n_estimators': 119,\n   'min_samples_split': 1,\n   'min_samples_leaf': 1,\n   'max_features': 'log2',\n   'criterion': 'entropy'},\n  {'n_estimators': 176,\n   'min_samples_split': 1,\n   'min_samples_leaf': 2,\n   'max_features': 'sqrt',\n   'criterion': 'gini'},\n  {'n_estimators': 160,\n   'min_samples_split': 1,\n   'min_samples_leaf': 2,\n   'max_features': 'log2',\n   'criterion': 'entropy'},\n  {'n_estimators': 144,\n   'min_samples_split': 1,\n   'min_samples_leaf': 1,\n   'max_features': 'sqrt',\n   'criterion': 'gini'},\n  {'n_estimators': 160,\n   'min_samples_split': 2,\n   'min_samples_leaf': 1,\n   'max_features': 'log2',\n   'criterion': 'entropy'},\n  {'n_estimators': 122,\n   'min_samples_split': 1,\n   'min_samples_leaf': 1,\n   'max_features': 'sqrt',\n   'criterion': 'entropy'},\n  {'n_estimators': 127,\n   'min_samples_split': 2,\n   'min_samples_leaf': 1,\n   'max_features': 'sqrt',\n   'criterion': 'gini'},\n  {'n_estimators': 144,\n   'min_samples_split': 1,\n   'min_samples_leaf': 2,\n   'max_features': 'log2',\n   'criterion': 'gini'},\n  {'n_estimators': 127,\n   'min_samples_split': 1,\n   'min_samples_leaf': 1,\n   'max_features': 'log2',\n   'criterion': 'entropy'},\n  {'n_estimators': 119,\n   'min_samples_split': 2,\n   'min_samples_leaf': 2,\n   'max_features': 'log2',\n   'criterion': 'entropy'},\n  {'n_estimators': 71,\n   'min_samples_split': 1,\n   'min_samples_leaf': 1,\n   'max_features': 'log2',\n   'criterion': 'gini'},\n  {'n_estimators': 43,\n   'min_samples_split': 2,\n   'min_samples_leaf': 1,\n   'max_features': 'sqrt',\n   'criterion': 'entropy'},\n  {'n_estimators': 43,\n   'min_samples_split': 1,\n   'min_samples_leaf': 2,\n   'max_features': 'log2',\n   'criterion': 'gini'},\n  {'n_estimators': 144,\n   'min_samples_split': 2,\n   'min_samples_leaf': 2,\n   'max_features': 'sqrt',\n   'criterion': 'entropy'},\n  {'n_estimators': 119,\n   'min_samples_split': 2,\n   'min_samples_leaf': 1,\n   'max_features': 'log2',\n   'criterion': 'gini'},\n  {'n_estimators': 72,\n   'min_samples_split': 2,\n   'min_samples_leaf': 2,\n   'max_features': 'sqrt',\n   'criterion': 'entropy'},\n  {'n_estimators': 122,\n   'min_samples_split': 2,\n   'min_samples_leaf': 2,\n   'max_features': 'log2',\n   'criterion': 'entropy'},\n  {'n_estimators': 122,\n   'min_samples_split': 2,\n   'min_samples_leaf': 2,\n   'max_features': 'log2',\n   'criterion': 'gini'},\n  {'n_estimators': 51,\n   'min_samples_split': 1,\n   'min_samples_leaf': 1,\n   'max_features': 'sqrt',\n   'criterion': 'entropy'},\n  {'n_estimators': 28,\n   'min_samples_split': 2,\n   'min_samples_leaf': 2,\n   'max_features': 'sqrt',\n   'criterion': 'entropy'},\n  {'n_estimators': 43,\n   'min_samples_split': 2,\n   'min_samples_leaf': 1,\n   'max_features': 'log2',\n   'criterion': 'entropy'},\n  {'n_estimators': 22,\n   'min_samples_split': 2,\n   'min_samples_leaf': 2,\n   'max_features': 'log2',\n   'criterion': 'entropy'},\n  {'n_estimators': 71,\n   'min_samples_split': 2,\n   'min_samples_leaf': 2,\n   'max_features': 'sqrt',\n   'criterion': 'entropy'},\n  {'n_estimators': 127,\n   'min_samples_split': 1,\n   'min_samples_leaf': 1,\n   'max_features': 'log2',\n   'criterion': 'gini'},\n  {'n_estimators': 57,\n   'min_samples_split': 2,\n   'min_samples_leaf': 2,\n   'max_features': 'log2',\n   'criterion': 'gini'},\n  {'n_estimators': 127,\n   'min_samples_split': 1,\n   'min_samples_leaf': 1,\n   'max_features': 'log2',\n   'criterion': 'entropy'},\n  {'n_estimators': 157,\n   'min_samples_split': 2,\n   'min_samples_leaf': 2,\n   'max_features': 'sqrt',\n   'criterion': 'gini'},\n  {'n_estimators': 157,\n   'min_samples_split': 2,\n   'min_samples_leaf': 1,\n   'max_features': 'sqrt',\n   'criterion': 'entropy'},\n  {'n_estimators': 28,\n   'min_samples_split': 1,\n   'min_samples_leaf': 2,\n   'max_features': 'sqrt',\n   'criterion': 'entropy'},\n  {'n_estimators': 119,\n   'min_samples_split': 1,\n   'min_samples_leaf': 1,\n   'max_features': 'log2',\n   'criterion': 'entropy'},\n  {'n_estimators': 189,\n   'min_samples_split': 1,\n   'min_samples_leaf': 1,\n   'max_features': 'sqrt',\n   'criterion': 'entropy'},\n  {'n_estimators': 92,\n   'min_samples_split': 1,\n   'min_samples_leaf': 2,\n   'max_features': 'log2',\n   'criterion': 'gini'},\n  {'n_estimators': 157,\n   'min_samples_split': 1,\n   'min_samples_leaf': 2,\n   'max_features': 'log2',\n   'criterion': 'gini'},\n  {'n_estimators': 43,\n   'min_samples_split': 2,\n   'min_samples_leaf': 1,\n   'max_features': 'log2',\n   'criterion': 'gini'},\n  {'n_estimators': 189,\n   'min_samples_split': 2,\n   'min_samples_leaf': 2,\n   'max_features': 'sqrt',\n   'criterion': 'entropy'},\n  {'n_estimators': 144,\n   'min_samples_split': 1,\n   'min_samples_leaf': 1,\n   'max_features': 'log2',\n   'criterion': 'gini'},\n  {'n_estimators': 119,\n   'min_samples_split': 1,\n   'min_samples_leaf': 1,\n   'max_features': 'log2',\n   'criterion': 'gini'},\n  {'n_estimators': 119,\n   'min_samples_split': 1,\n   'min_samples_leaf': 2,\n   'max_features': 'log2',\n   'criterion': 'gini'},\n  {'n_estimators': 72,\n   'min_samples_split': 2,\n   'min_samples_leaf': 2,\n   'max_features': 'log2',\n   'criterion': 'gini'},\n  {'n_estimators': 92,\n   'min_samples_split': 1,\n   'min_samples_leaf': 2,\n   'max_features': 'log2',\n   'criterion': 'gini'},\n  {'n_estimators': 127,\n   'min_samples_split': 2,\n   'min_samples_leaf': 2,\n   'max_features': 'log2',\n   'criterion': 'gini'},\n  {'n_estimators': 57,\n   'min_samples_split': 1,\n   'min_samples_leaf': 2,\n   'max_features': 'log2',\n   'criterion': 'entropy'},\n  {'n_estimators': 71,\n   'min_samples_split': 2,\n   'min_samples_leaf': 1,\n   'max_features': 'sqrt',\n   'criterion': 'entropy'},\n  {'n_estimators': 119,\n   'min_samples_split': 1,\n   'min_samples_leaf': 2,\n   'max_features': 'sqrt',\n   'criterion': 'entropy'},\n  {'n_estimators': 22,\n   'min_samples_split': 2,\n   'min_samples_leaf': 2,\n   'max_features': 'sqrt',\n   'criterion': 'gini'},\n  {'n_estimators': 165,\n   'min_samples_split': 2,\n   'min_samples_leaf': 1,\n   'max_features': 'log2',\n   'criterion': 'gini'},\n  {'n_estimators': 165,\n   'min_samples_split': 2,\n   'min_samples_leaf': 1,\n   'max_features': 'log2',\n   'criterion': 'entropy'},\n  {'n_estimators': 57,\n   'min_samples_split': 1,\n   'min_samples_leaf': 2,\n   'max_features': 'sqrt',\n   'criterion': 'entropy'},\n  {'n_estimators': 75,\n   'min_samples_split': 2,\n   'min_samples_leaf': 2,\n   'max_features': 'log2',\n   'criterion': 'entropy'},\n  {'n_estimators': 81,\n   'min_samples_split': 1,\n   'min_samples_leaf': 2,\n   'max_features': 'log2',\n   'criterion': 'gini'},\n  {'n_estimators': 119,\n   'min_samples_split': 2,\n   'min_samples_leaf': 2,\n   'max_features': 'log2',\n   'criterion': 'entropy'},\n  {'n_estimators': 119,\n   'min_samples_split': 2,\n   'min_samples_leaf': 2,\n   'max_features': 'log2',\n   'criterion': 'gini'},\n  {'n_estimators': 22,\n   'min_samples_split': 1,\n   'min_samples_leaf': 2,\n   'max_features': 'sqrt',\n   'criterion': 'gini'},\n  {'n_estimators': 119,\n   'min_samples_split': 1,\n   'min_samples_leaf': 2,\n   'max_features': 'sqrt',\n   'criterion': 'gini'},\n  {'n_estimators': 72,\n   'min_samples_split': 2,\n   'min_samples_leaf': 2,\n   'max_features': 'sqrt',\n   'criterion': 'gini'},\n  {'n_estimators': 166,\n   'min_samples_split': 1,\n   'min_samples_leaf': 1,\n   'max_features': 'sqrt',\n   'criterion': 'gini'},\n  {'n_estimators': 51,\n   'min_samples_split': 1,\n   'min_samples_leaf': 1,\n   'max_features': 'log2',\n   'criterion': 'entropy'},\n  {'n_estimators': 28,\n   'min_samples_split': 2,\n   'min_samples_leaf': 1,\n   'max_features': 'log2',\n   'criterion': 'entropy'},\n  {'n_estimators': 166,\n   'min_samples_split': 2,\n   'min_samples_leaf': 1,\n   'max_features': 'sqrt',\n   'criterion': 'entropy'},\n  {'n_estimators': 189,\n   'min_samples_split': 1,\n   'min_samples_leaf': 1,\n   'max_features': 'sqrt',\n   'criterion': 'entropy'},\n  {'n_estimators': 92,\n   'min_samples_split': 2,\n   'min_samples_leaf': 2,\n   'max_features': 'sqrt',\n   'criterion': 'entropy'},\n  {'n_estimators': 22,\n   'min_samples_split': 1,\n   'min_samples_leaf': 1,\n   'max_features': 'log2',\n   'criterion': 'gini'},\n  {'n_estimators': 160,\n   'min_samples_split': 1,\n   'min_samples_leaf': 2,\n   'max_features': 'sqrt',\n   'criterion': 'gini'},\n  {'n_estimators': 166,\n   'min_samples_split': 2,\n   'min_samples_leaf': 2,\n   'max_features': 'sqrt',\n   'criterion': 'gini'},\n  {'n_estimators': 58,\n   'min_samples_split': 2,\n   'min_samples_leaf': 1,\n   'max_features': 'sqrt',\n   'criterion': 'entropy'},\n  {'n_estimators': 166,\n   'min_samples_split': 2,\n   'min_samples_leaf': 1,\n   'max_features': 'log2',\n   'criterion': 'gini'},\n  {'n_estimators': 75,\n   'min_samples_split': 2,\n   'min_samples_leaf': 2,\n   'max_features': 'log2',\n   'criterion': 'gini'},\n  {'n_estimators': 157,\n   'min_samples_split': 1,\n   'min_samples_leaf': 1,\n   'max_features': 'sqrt',\n   'criterion': 'gini'},\n  {'n_estimators': 166,\n   'min_samples_split': 1,\n   'min_samples_leaf': 1,\n   'max_features': 'log2',\n   'criterion': 'gini'},\n  {'n_estimators': 92,\n   'min_samples_split': 2,\n   'min_samples_leaf': 1,\n   'max_features': 'sqrt',\n   'criterion': 'entropy'},\n  {'n_estimators': 75,\n   'min_samples_split': 1,\n   'min_samples_leaf': 2,\n   'max_features': 'log2',\n   'criterion': 'entropy'},\n  {'n_estimators': 144,\n   'min_samples_split': 2,\n   'min_samples_leaf': 1,\n   'max_features': 'sqrt',\n   'criterion': 'gini'},\n  {'n_estimators': 144,\n   'min_samples_split': 1,\n   'min_samples_leaf': 1,\n   'max_features': 'sqrt',\n   'criterion': 'entropy'},\n  {'n_estimators': 122,\n   'min_samples_split': 2,\n   'min_samples_leaf': 1,\n   'max_features': 'sqrt',\n   'criterion': 'entropy'},\n  {'n_estimators': 53,\n   'min_samples_split': 2,\n   'min_samples_leaf': 1,\n   'max_features': 'log2',\n   'criterion': 'entropy'},\n  {'n_estimators': 43,\n   'min_samples_split': 1,\n   'min_samples_leaf': 1,\n   'max_features': 'log2',\n   'criterion': 'gini'},\n  {'n_estimators': 51,\n   'min_samples_split': 1,\n   'min_samples_leaf': 2,\n   'max_features': 'log2',\n   'criterion': 'gini'},\n  {'n_estimators': 157,\n   'min_samples_split': 2,\n   'min_samples_leaf': 2,\n   'max_features': 'log2',\n   'criterion': 'gini'},\n  {'n_estimators': 166,\n   'min_samples_split': 2,\n   'min_samples_leaf': 2,\n   'max_features': 'sqrt',\n   'criterion': 'entropy'},\n  {'n_estimators': 51,\n   'min_samples_split': 1,\n   'min_samples_leaf': 1,\n   'max_features': 'sqrt',\n   'criterion': 'entropy'},\n  {'n_estimators': 43,\n   'min_samples_split': 2,\n   'min_samples_leaf': 1,\n   'max_features': 'log2',\n   'criterion': 'gini'},\n  {'n_estimators': 189,\n   'min_samples_split': 2,\n   'min_samples_leaf': 2,\n   'max_features': 'log2',\n   'criterion': 'gini'},\n  {'n_estimators': 22,\n   'min_samples_split': 1,\n   'min_samples_leaf': 2,\n   'max_features': 'sqrt',\n   'criterion': 'entropy'},\n  {'n_estimators': 75,\n   'min_samples_split': 2,\n   'min_samples_leaf': 2,\n   'max_features': 'sqrt',\n   'criterion': 'entropy'},\n  {'n_estimators': 72,\n   'min_samples_split': 1,\n   'min_samples_leaf': 1,\n   'max_features': 'sqrt',\n   'criterion': 'gini'},\n  {'n_estimators': 157,\n   'min_samples_split': 1,\n   'min_samples_leaf': 1,\n   'max_features': 'log2',\n   'criterion': 'gini'},\n  {'n_estimators': 51,\n   'min_samples_split': 1,\n   'min_samples_leaf': 1,\n   'max_features': 'sqrt',\n   'criterion': 'gini'},\n  {'n_estimators': 43,\n   'min_samples_split': 1,\n   'min_samples_leaf': 1,\n   'max_features': 'sqrt',\n   'criterion': 'gini'},\n  {'n_estimators': 166,\n   'min_samples_split': 1,\n   'min_samples_leaf': 2,\n   'max_features': 'sqrt',\n   'criterion': 'gini'},\n  {'n_estimators': 157,\n   'min_samples_split': 1,\n   'min_samples_leaf': 1,\n   'max_features': 'log2',\n   'criterion': 'gini'},\n  {'n_estimators': 57,\n   'min_samples_split': 1,\n   'min_samples_leaf': 1,\n   'max_features': 'sqrt',\n   'criterion': 'entropy'},\n  {'n_estimators': 51,\n   'min_samples_split': 1,\n   'min_samples_leaf': 2,\n   'max_features': 'log2',\n   'criterion': 'entropy'},\n  {'n_estimators': 51,\n   'min_samples_split': 2,\n   'min_samples_leaf': 1,\n   'max_features': 'sqrt',\n   'criterion': 'gini'},\n  {'n_estimators': 81,\n   'min_samples_split': 1,\n   'min_samples_leaf': 1,\n   'max_features': 'sqrt',\n   'criterion': 'entropy'},\n  {'n_estimators': 189,\n   'min_samples_split': 2,\n   'min_samples_leaf': 1,\n   'max_features': 'sqrt',\n   'criterion': 'entropy'},\n  {'n_estimators': 157,\n   'min_samples_split': 2,\n   'min_samples_leaf': 2,\n   'max_features': 'log2',\n   'criterion': 'entropy'},\n  {'n_estimators': 75,\n   'min_samples_split': 2,\n   'min_samples_leaf': 2,\n   'max_features': 'sqrt',\n   'criterion': 'gini'},\n  {'n_estimators': 51,\n   'min_samples_split': 2,\n   'min_samples_leaf': 1,\n   'max_features': 'log2',\n   'criterion': 'gini'},\n  {'n_estimators': 53,\n   'min_samples_split': 2,\n   'min_samples_leaf': 1,\n   'max_features': 'sqrt',\n   'criterion': 'entropy'},\n  {'n_estimators': 122,\n   'min_samples_split': 1,\n   'min_samples_leaf': 1,\n   'max_features': 'log2',\n   'criterion': 'entropy'},\n  {'n_estimators': 81,\n   'min_samples_split': 2,\n   'min_samples_leaf': 1,\n   'max_features': 'sqrt',\n   'criterion': 'entropy'},\n  {'n_estimators': 92,\n   'min_samples_split': 1,\n   'min_samples_leaf': 1,\n   'max_features': 'log2',\n   'criterion': 'gini'},\n  {'n_estimators': 51,\n   'min_samples_split': 2,\n   'min_samples_leaf': 2,\n   'max_features': 'sqrt',\n   'criterion': 'gini'},\n  {'n_estimators': 92,\n   'min_samples_split': 1,\n   'min_samples_leaf': 1,\n   'max_features': 'sqrt',\n   'criterion': 'entropy'},\n  {'n_estimators': 43,\n   'min_samples_split': 1,\n   'min_samples_leaf': 2,\n   'max_features': 'sqrt',\n   'criterion': 'gini'},\n  {'n_estimators': 28,\n   'min_samples_split': 2,\n   'min_samples_leaf': 1,\n   'max_features': 'log2',\n   'criterion': 'entropy'},\n  {'n_estimators': 157,\n   'min_samples_split': 2,\n   'min_samples_leaf': 2,\n   'max_features': 'sqrt',\n   'criterion': 'gini'},\n  {'n_estimators': 28,\n   'min_samples_split': 1,\n   'min_samples_leaf': 1,\n   'max_features': 'sqrt',\n   'criterion': 'gini'},\n  {'n_estimators': 189,\n   'min_samples_split': 1,\n   'min_samples_leaf': 2,\n   'max_features': 'sqrt',\n   'criterion': 'entropy'},\n  {'n_estimators': 176,\n   'min_samples_split': 1,\n   'min_samples_leaf': 1,\n   'max_features': 'log2',\n   'criterion': 'entropy'},\n  {'n_estimators': 75,\n   'min_samples_split': 1,\n   'min_samples_leaf': 2,\n   'max_features': 'sqrt',\n   'criterion': 'gini'},\n  {'n_estimators': 166,\n   'min_samples_split': 1,\n   'min_samples_leaf': 2,\n   'max_features': 'sqrt',\n   'criterion': 'entropy'},\n  {'n_estimators': 75,\n   'min_samples_split': 2,\n   'min_samples_leaf': 1,\n   'max_features': 'log2',\n   'criterion': 'gini'},\n  {'n_estimators': 43,\n   'min_samples_split': 2,\n   'min_samples_leaf': 2,\n   'max_features': 'log2',\n   'criterion': 'gini'},\n  {'n_estimators': 189,\n   'min_samples_split': 2,\n   'min_samples_leaf': 2,\n   'max_features': 'log2',\n   'criterion': 'entropy'},\n  {'n_estimators': 127,\n   'min_samples_split': 1,\n   'min_samples_leaf': 2,\n   'max_features': 'log2',\n   'criterion': 'gini'},\n  {'n_estimators': 51,\n   'min_samples_split': 1,\n   'min_samples_leaf': 1,\n   'max_features': 'log2',\n   'criterion': 'entropy'},\n  {'n_estimators': 119,\n   'min_samples_split': 2,\n   'min_samples_leaf': 1,\n   'max_features': 'sqrt',\n   'criterion': 'entropy'},\n  {'n_estimators': 22,\n   'min_samples_split': 2,\n   'min_samples_leaf': 2,\n   'max_features': 'sqrt',\n   'criterion': 'gini'},\n  {'n_estimators': 71,\n   'min_samples_split': 2,\n   'min_samples_leaf': 1,\n   'max_features': 'log2',\n   'criterion': 'gini'},\n  {'n_estimators': 81,\n   'min_samples_split': 1,\n   'min_samples_leaf': 2,\n   'max_features': 'log2',\n   'criterion': 'gini'},\n  {'n_estimators': 28,\n   'min_samples_split': 2,\n   'min_samples_leaf': 1,\n   'max_features': 'sqrt',\n   'criterion': 'entropy'},\n  {'n_estimators': 160,\n   'min_samples_split': 1,\n   'min_samples_leaf': 2,\n   'max_features': 'log2',\n   'criterion': 'gini'},\n  {'n_estimators': 127,\n   'min_samples_split': 2,\n   'min_samples_leaf': 2,\n   'max_features': 'log2',\n   'criterion': 'gini'},\n  {'n_estimators': 71,\n   'min_samples_split': 2,\n   'min_samples_leaf': 2,\n   'max_features': 'log2',\n   'criterion': 'entropy'},\n  {'n_estimators': 157,\n   'min_samples_split': 2,\n   'min_samples_leaf': 1,\n   'max_features': 'sqrt',\n   'criterion': 'gini'},\n  {'n_estimators': 71,\n   'min_samples_split': 2,\n   'min_samples_leaf': 2,\n   'max_features': 'sqrt',\n   'criterion': 'entropy'},\n  {'n_estimators': 75,\n   'min_samples_split': 1,\n   'min_samples_leaf': 2,\n   'max_features': 'log2',\n   'criterion': 'entropy'},\n  {'n_estimators': 157,\n   'min_samples_split': 2,\n   'min_samples_leaf': 1,\n   'max_features': 'sqrt',\n   'criterion': 'entropy'},\n  {'n_estimators': 166,\n   'min_samples_split': 1,\n   'min_samples_leaf': 2,\n   'max_features': 'sqrt',\n   'criterion': 'entropy'},\n  {'n_estimators': 81,\n   'min_samples_split': 1,\n   'min_samples_leaf': 2,\n   'max_features': 'log2',\n   'criterion': 'entropy'},\n  {'n_estimators': 51,\n   'min_samples_split': 1,\n   'min_samples_leaf': 1,\n   'max_features': 'log2',\n   'criterion': 'entropy'},\n  {'n_estimators': 166,\n   'min_samples_split': 2,\n   'min_samples_leaf': 1,\n   'max_features': 'log2',\n   'criterion': 'entropy'},\n  {'n_estimators': 165,\n   'min_samples_split': 1,\n   'min_samples_leaf': 2,\n   'max_features': 'log2',\n   'criterion': 'entropy'},\n  {'n_estimators': 189,\n   'min_samples_split': 1,\n   'min_samples_leaf': 1,\n   'max_features': 'sqrt',\n   'criterion': 'gini'},\n  {'n_estimators': 81,\n   'min_samples_split': 1,\n   'min_samples_leaf': 1,\n   'max_features': 'sqrt',\n   'criterion': 'gini'},\n  {'n_estimators': 75,\n   'min_samples_split': 1,\n   'min_samples_leaf': 1,\n   'max_features': 'sqrt',\n   'criterion': 'gini'},\n  {'n_estimators': 127,\n   'min_samples_split': 2,\n   'min_samples_leaf': 1,\n   'max_features': 'log2',\n   'criterion': 'entropy'},\n  {'n_estimators': 122,\n   'min_samples_split': 2,\n   'min_samples_leaf': 2,\n   'max_features': 'log2',\n   'criterion': 'entropy'},\n  {'n_estimators': 166,\n   'min_samples_split': 1,\n   'min_samples_leaf': 2,\n   'max_features': 'log2',\n   'criterion': 'entropy'},\n  {'n_estimators': 57,\n   'min_samples_split': 2,\n   'min_samples_leaf': 1,\n   'max_features': 'sqrt',\n   'criterion': 'entropy'},\n  {'n_estimators': 119,\n   'min_samples_split': 1,\n   'min_samples_leaf': 1,\n   'max_features': 'sqrt',\n   'criterion': 'gini'},\n  {'n_estimators': 22,\n   'min_samples_split': 2,\n   'min_samples_leaf': 1,\n   'max_features': 'log2',\n   'criterion': 'gini'},\n  {'n_estimators': 160,\n   'min_samples_split': 2,\n   'min_samples_leaf': 2,\n   'max_features': 'sqrt',\n   'criterion': 'gini'},\n  {'n_estimators': 53,\n   'min_samples_split': 2,\n   'min_samples_leaf': 2,\n   'max_features': 'sqrt',\n   'criterion': 'entropy'},\n  {'n_estimators': 144,\n   'min_samples_split': 2,\n   'min_samples_leaf': 2,\n   'max_features': 'log2',\n   'criterion': 'entropy'},\n  {'n_estimators': 43,\n   'min_samples_split': 1,\n   'min_samples_leaf': 2,\n   'max_features': 'log2',\n   'criterion': 'entropy'},\n  {'n_estimators': 160,\n   'min_samples_split': 2,\n   'min_samples_leaf': 1,\n   'max_features': 'sqrt',\n   'criterion': 'gini'},\n  {'n_estimators': 72,\n   'min_samples_split': 2,\n   'min_samples_leaf': 2,\n   'max_features': 'log2',\n   'criterion': 'entropy'},\n  {'n_estimators': 144,\n   'min_samples_split': 2,\n   'min_samples_leaf': 2,\n   'max_features': 'sqrt',\n   'criterion': 'gini'},\n  {'n_estimators': 57,\n   'min_samples_split': 2,\n   'min_samples_leaf': 1,\n   'max_features': 'log2',\n   'criterion': 'entropy'},\n  {'n_estimators': 28,\n   'min_samples_split': 2,\n   'min_samples_leaf': 1,\n   'max_features': 'log2',\n   'criterion': 'entropy'},\n  {'n_estimators': 53,\n   'min_samples_split': 2,\n   'min_samples_leaf': 2,\n   'max_features': 'log2',\n   'criterion': 'entropy'},\n  {'n_estimators': 176,\n   'min_samples_split': 1,\n   'min_samples_leaf': 2,\n   'max_features': 'log2',\n   'criterion': 'entropy'},\n  {'n_estimators': 22,\n   'min_samples_split': 2,\n   'min_samples_leaf': 2,\n   'max_features': 'log2',\n   'criterion': 'gini'},\n  {'n_estimators': 43,\n   'min_samples_split': 1,\n   'min_samples_leaf': 1,\n   'max_features': 'log2',\n   'criterion': 'entropy'}],\n 'split0_test_score': array([0.90631263,        nan, 0.90781563, 0.90631263,        nan,\n        0.90681363,        nan, 0.90280561,        nan,        nan,\n               nan,        nan,        nan, 0.9003006 , 0.90430862,\n        0.90531062, 0.8987976 , 0.90731463,        nan,        nan,\n        0.90480962, 0.90631263, 0.90430862, 0.90581162,        nan,\n        0.90280561,        nan,        nan, 0.90280561,        nan,\n               nan, 0.91032064, 0.90781563,        nan, 0.90280561,\n               nan,        nan, 0.90380762,        nan,        nan,\n               nan, 0.90731463,        nan, 0.90531062,        nan,\n               nan,        nan,        nan, 0.90480962,        nan,\n        0.90430862,        nan,        nan, 0.90531062,        nan,\n        0.90380762,        nan, 0.90531062, 0.90531062, 0.90831663,\n        0.90831663, 0.90731463,        nan, 0.90180361, 0.90230461,\n        0.90380762, 0.90581162,        nan, 0.90330661,        nan,\n        0.90931864, 0.90881764,        nan,        nan,        nan,\n               nan,        nan, 0.90430862, 0.90731463,        nan,\n               nan,        nan, 0.90831663,        nan, 0.90731463,\n               nan, 0.90180361,        nan, 0.90330661, 0.90531062,\n        0.90180361,        nan, 0.90731463,        nan, 0.90681363,\n        0.90881764,        nan,        nan, 0.90931864,        nan,\n               nan, 0.9008016 , 0.90831663,        nan, 0.90330661,\n               nan,        nan, 0.90681363, 0.90330661, 0.90230461,\n        0.90881764,        nan,        nan, 0.90480962,        nan,\n        0.90130261,        nan, 0.90380762, 0.9008016 ,        nan,\n               nan, 0.90581162, 0.90531062,        nan, 0.90330661,\n        0.90781563,        nan, 0.90330661,        nan,        nan,\n               nan,        nan,        nan,        nan,        nan,\n               nan, 0.90380762,        nan, 0.90681363, 0.90531062,\n        0.90531062, 0.90180361, 0.90130261,        nan, 0.90230461,\n               nan, 0.90480962,        nan,        nan, 0.9008016 ,\n        0.90781563,        nan,        nan,        nan,        nan,\n               nan, 0.90180361, 0.90330661, 0.90731463,        nan,\n               nan, 0.90581162, 0.90430862, 0.90330661,        nan,\n        0.89779559,        nan, 0.90981964, 0.90531062, 0.90330661,\n        0.90731463,        nan, 0.90430862,        nan,        nan,\n               nan, 0.90581162,        nan,        nan,        nan,\n               nan, 0.90430862, 0.90631263,        nan, 0.89779559,\n               nan, 0.89679359, 0.90631263, 0.90430862, 0.90330661,\n               nan, 0.90731463, 0.90330661, 0.90781563, 0.90330661,\n        0.90380762, 0.90330661,        nan, 0.90731463,        nan]),\n 'split1_test_score': array([0.91382766,        nan, 0.90981964, 0.90781563,        nan,\n        0.91833667,        nan, 0.91332665,        nan,        nan,\n               nan,        nan,        nan, 0.90931864, 0.90931864,\n        0.91332665, 0.90831663, 0.91683367,        nan,        nan,\n        0.91232465, 0.91082164, 0.91082164, 0.91032064,        nan,\n        0.90881764,        nan,        nan, 0.91332665,        nan,\n               nan, 0.91783567, 0.90881764,        nan, 0.91482966,\n               nan,        nan, 0.90681363,        nan,        nan,\n               nan, 0.91833667,        nan, 0.90881764,        nan,\n               nan,        nan,        nan, 0.91382766,        nan,\n        0.91082164,        nan,        nan, 0.91533066,        nan,\n        0.91232465,        nan, 0.91683367, 0.90981964, 0.91883768,\n        0.91633267, 0.91583166,        nan, 0.91683367, 0.91282565,\n        0.91382766, 0.91733467,        nan, 0.91282565,        nan,\n        0.92034068, 0.91032064,        nan,        nan,        nan,\n               nan,        nan, 0.91282565, 0.91733467,        nan,\n               nan,        nan, 0.91683367,        nan, 0.91683367,\n               nan, 0.91633267,        nan, 0.91583166, 0.91232465,\n        0.90781563,        nan, 0.91382766,        nan, 0.91733467,\n        0.91733467,        nan,        nan, 0.91983968,        nan,\n               nan, 0.90831663, 0.90981964,        nan, 0.91633267,\n               nan,        nan, 0.91833667, 0.90931864, 0.90831663,\n        0.91783567,        nan,        nan, 0.91032064,        nan,\n        0.90831663,        nan, 0.90881764, 0.90781563,        nan,\n               nan, 0.91733467, 0.91833667,        nan, 0.91082164,\n        0.91833667,        nan, 0.91482966,        nan,        nan,\n               nan,        nan,        nan,        nan,        nan,\n               nan, 0.91282565,        nan, 0.90931864, 0.91933868,\n        0.91683367, 0.90981964, 0.91232465,        nan, 0.91382766,\n               nan, 0.91533066,        nan,        nan, 0.90681363,\n        0.91733467,        nan,        nan,        nan,        nan,\n               nan, 0.90831663, 0.91733467, 0.91533066,        nan,\n               nan, 0.91132265, 0.91933868, 0.90581162,        nan,\n        0.91182365,        nan, 0.91933868, 0.91883768, 0.91082164,\n        0.91783567,        nan, 0.90981964,        nan,        nan,\n               nan, 0.91382766,        nan,        nan,        nan,\n               nan, 0.90931864, 0.91432866,        nan, 0.90831663,\n               nan, 0.90631263, 0.91933868, 0.91583166, 0.91833667,\n               nan, 0.90881764, 0.91733467, 0.92034068, 0.91332665,\n        0.90931864, 0.91583166,        nan, 0.91432866,        nan]),\n 'split2_test_score': array([0.91232465,        nan, 0.90881764, 0.90531062,        nan,\n        0.90781563,        nan, 0.90831663,        nan,        nan,\n               nan,        nan,        nan, 0.90781563, 0.90280561,\n        0.90380762, 0.90480962, 0.91032064,        nan,        nan,\n        0.90681363, 0.90480962, 0.90330661, 0.90480962,        nan,\n        0.90480962,        nan,        nan, 0.90681363,        nan,\n               nan, 0.90981964, 0.90631263,        nan, 0.90731463,\n               nan,        nan, 0.90330661,        nan,        nan,\n               nan, 0.91082164,        nan, 0.90631263,        nan,\n               nan,        nan,        nan, 0.90631263,        nan,\n        0.90480962,        nan,        nan, 0.91082164,        nan,\n        0.90731463,        nan, 0.91182365, 0.90731463, 0.90881764,\n        0.90981964, 0.90931864,        nan, 0.90380762, 0.8987976 ,\n        0.90731463, 0.90781563,        nan, 0.90731463,        nan,\n        0.91082164, 0.90831663,        nan,        nan,        nan,\n               nan,        nan, 0.9008016 , 0.91132265,        nan,\n               nan,        nan, 0.90831663,        nan, 0.90831663,\n               nan, 0.90631263,        nan, 0.90531062, 0.90280561,\n        0.90581162,        nan, 0.90981964,        nan, 0.90781563,\n        0.91232465,        nan,        nan, 0.90781563,        nan,\n               nan, 0.90831663, 0.90531062,        nan, 0.91082164,\n               nan,        nan, 0.90681363, 0.90531062, 0.90531062,\n        0.90781563,        nan,        nan, 0.90681363,        nan,\n        0.90480962,        nan, 0.90731463, 0.90581162,        nan,\n               nan, 0.91232465, 0.90981964,        nan, 0.9008016 ,\n        0.91032064,        nan, 0.90931864,        nan,        nan,\n               nan,        nan,        nan,        nan,        nan,\n               nan, 0.90480962,        nan, 0.90430862, 0.91082164,\n        0.91132265, 0.90480962, 0.90531062,        nan, 0.90681363,\n               nan, 0.90931864,        nan,        nan, 0.90430862,\n        0.90981964,        nan,        nan,        nan,        nan,\n               nan, 0.90280561, 0.91132265, 0.91032064,        nan,\n               nan, 0.90581162, 0.90981964, 0.90480962,        nan,\n        0.90531062,        nan, 0.90931864, 0.90581162, 0.90631263,\n        0.90831663,        nan, 0.90731463,        nan,        nan,\n               nan, 0.90230461,        nan,        nan,        nan,\n               nan, 0.90280561, 0.90731463,        nan, 0.90731463,\n               nan, 0.90731463, 0.90931864, 0.91182365, 0.91182365,\n               nan, 0.90631263, 0.90931864, 0.90831663, 0.90931864,\n        0.90330661, 0.90731463,        nan, 0.91082164,        nan]),\n 'mean_test_score': array([0.91082164,        nan, 0.90881764, 0.90647963,        nan,\n        0.91098864,        nan, 0.90814963,        nan,        nan,\n               nan,        nan,        nan, 0.90581162, 0.90547762,\n        0.90748163, 0.90397462, 0.91148965,        nan,        nan,\n        0.90798263, 0.90731463, 0.90614562, 0.90698063,        nan,\n        0.90547762,        nan,        nan, 0.90764863,        nan,\n               nan, 0.91265865, 0.90764863,        nan, 0.90831663,\n               nan,        nan, 0.90464262,        nan,        nan,\n               nan, 0.91215765,        nan, 0.90681363,        nan,\n               nan,        nan,        nan, 0.90831663,        nan,\n        0.90664663,        nan,        nan, 0.91048764,        nan,\n        0.90781563,        nan, 0.91132265, 0.90748163, 0.91199065,\n        0.91148965, 0.91082164,        nan, 0.90748163, 0.90464262,\n        0.90831663, 0.91032064,        nan, 0.90781563,        nan,\n        0.91349365, 0.90915164,        nan,        nan,        nan,\n               nan,        nan, 0.90597862, 0.91199065,        nan,\n               nan,        nan, 0.91115564,        nan, 0.91082164,\n               nan, 0.90814963,        nan, 0.90814963, 0.90681363,\n        0.90514362,        nan, 0.91032064,        nan, 0.91065464,\n        0.91282565,        nan,        nan, 0.91232465,        nan,\n               nan, 0.90581162, 0.90781563,        nan, 0.91015364,\n               nan,        nan, 0.91065464, 0.90597862, 0.90531062,\n        0.91148965,        nan,        nan, 0.90731463,        nan,\n        0.90480962,        nan, 0.90664663, 0.90480962,        nan,\n               nan, 0.91182365, 0.91115564,        nan, 0.90497662,\n        0.91215765,        nan, 0.90915164,        nan,        nan,\n               nan,        nan,        nan,        nan,        nan,\n               nan, 0.90714763,        nan, 0.90681363, 0.91182365,\n        0.91115564, 0.90547762, 0.90631263,        nan, 0.90764863,\n               nan, 0.90981964,        nan,        nan, 0.90397462,\n        0.91165665,        nan,        nan,        nan,        nan,\n               nan, 0.90430862, 0.91065464, 0.91098864,        nan,\n               nan, 0.90764863, 0.91115564, 0.90464262,        nan,\n        0.90497662,        nan, 0.91282565, 0.90998664, 0.90681363,\n        0.91115564,        nan, 0.90714763,        nan,        nan,\n               nan, 0.90731463,        nan,        nan,        nan,\n               nan, 0.90547762, 0.90931864,        nan, 0.90447562,\n               nan, 0.90347361, 0.91165665, 0.91065464, 0.91115564,\n               nan, 0.90748163, 0.90998664, 0.91215765, 0.90865063,\n        0.90547762, 0.90881764,        nan, 0.91082164,        nan]),\n 'std_test_score': array([0.00324686,        nan, 0.00081813, 0.00102946,        nan,\n        0.00521192,        nan, 0.00429682,        nan,        nan,\n               nan,        nan,        nan, 0.00394489, 0.00278446,\n        0.00417836, 0.00393073, 0.00397307,        nan,        nan,\n        0.0031774 , 0.00255462, 0.00333165, 0.00239691,        nan,\n        0.00249944,        nan,        nan, 0.00433559,        nan,\n               nan, 0.00366642, 0.00102946,        nan, 0.00495967,\n               nan,        nan, 0.0015487 ,        nan,        nan,\n               nan, 0.00459783,        nan, 0.00147491,        nan,\n               nan,        nan,        nan, 0.00394489,        nan,\n        0.00295926,        nan,        nan, 0.00409748,        nan,\n        0.00349507,        nan, 0.00471758, 0.00184458, 0.0048459 ,\n        0.00347907, 0.00363586,        nan, 0.00666331, 0.00596078,\n        0.00415157, 0.00502669,        nan, 0.00390224,        nan,\n        0.00488031, 0.00085154,        nan,        nan,        nan,\n               nan,        nan, 0.00504884, 0.00411785,        nan,\n               nan,        nan, 0.00401497,        nan, 0.00427078,\n               nan, 0.00607203,        nan, 0.00549328, 0.00402884,\n        0.00249944,        nan, 0.00268243,        nan, 0.00474117,\n        0.00349507,        nan,        nan, 0.00534924,        nan,\n               nan, 0.00354262, 0.00187458,        nan, 0.0053388 ,\n               nan,        nan, 0.00543202, 0.00249944, 0.0024544 ,\n        0.00450592,        nan,        nan, 0.00227759,        nan,\n        0.00286346,        nan, 0.00209917, 0.00294982,        nan,\n               nan, 0.00471758, 0.00540112,        nan, 0.0042577 ,\n        0.00448732,        nan, 0.00470575,        nan,        nan,\n               nan,        nan,        nan,        nan,        nan,\n               nan, 0.00403575,        nan, 0.00204533, 0.00577059,\n        0.00470575, 0.00330644, 0.00455517,        nan, 0.00474117,\n               nan, 0.00430978,        nan,        nan, 0.00246574,\n        0.00409748,        nan,        nan,        nan,        nan,\n               nan, 0.00286346, 0.00574638, 0.00330644,        nan,\n               nan, 0.00259792, 0.00620829, 0.00102946,        nan,\n        0.0057318 ,        nan, 0.00460994, 0.00626197, 0.00308838,\n        0.00474117,        nan, 0.00225296,        nan,        nan,\n               nan, 0.00482282,        nan,        nan,        nan,\n               nan, 0.00278446, 0.00356616,        nan, 0.00474117,\n               nan, 0.00474117, 0.00556892, 0.00477634, 0.00615415,\n               nan, 0.00102946, 0.00574638, 0.00578989, 0.00411785,\n        0.0027237 , 0.00522261,        nan, 0.00286346,        nan]),\n 'rank_test_score': array([ 28, 164,  45,  78, 163,  25, 162,  51, 161, 160, 159, 158, 157,\n         83,  85,  62, 101,  16, 156, 155,  54,  66,  80,  71, 154,  87,\n        153, 152,  58, 151, 165,   4,  58, 150,  49, 148, 147,  96, 146,\n        145, 144,   6, 143,  72, 142, 141, 140, 139,  48, 138,  76, 137,\n        136,  35, 135,  55, 149,  18,  65,   9,  15,  28, 167,  62,  96,\n         49,  36, 183,  56, 168,   1,  43, 198, 197, 196, 195, 194,  81,\n          9, 193, 192, 191,  19, 190,  28, 189,  51, 188,  51,  72,  91,\n        187,  36, 186,  31,   3, 185, 199,   5, 133, 184,  83,  56, 182,\n         38, 181, 180,  31,  81,  90,  16, 179, 178,  68, 177,  94, 176,\n         76,  94, 175, 174,  11,  24, 173,  92,   6, 172,  44, 171, 170,\n        169, 134, 166, 132, 118, 107,  69, 105,  72,  11,  19,  87,  79,\n        108,  58, 120,  41, 110, 130, 101,  13, 129, 128, 127, 126, 124,\n        100,  31,  25, 122, 131,  58,  19,  96, 119,  92, 117,   2,  39,\n         72,  19, 109,  69, 111, 112, 113,  66, 114, 115, 116, 121,  85,\n         42, 123,  99, 125, 103,  13,  31,  19, 104,  62,  39,   6,  47,\n         87,  45, 106,  27, 200], dtype=int32)}"
          },
          "metadata": {}
        }
      ]
    },
    {
      "cell_type": "code",
      "source": "result = pd.DataFrame(rando.cv_results_)",
      "metadata": {
        "trusted": true
      },
      "execution_count": 82,
      "outputs": []
    },
    {
      "cell_type": "code",
      "source": "result",
      "metadata": {
        "trusted": true
      },
      "execution_count": 83,
      "outputs": [
        {
          "execution_count": 83,
          "output_type": "execute_result",
          "data": {
            "text/plain": "     mean_fit_time  std_fit_time  mean_score_time  std_score_time  \\\n0         0.373000      0.000816         0.026333        0.000471   \n1         0.129333      0.002055         0.000000        0.000000   \n2         0.621667      0.008380         0.040333        0.000471   \n3         0.477667      0.005249         0.039667        0.000471   \n4         0.083333      0.001247         0.000000        0.000000   \n..             ...           ...              ...             ...   \n195       0.193667      0.005437         0.014667        0.000471   \n196       0.340667      0.001886         0.024000        0.000816   \n197       0.118333      0.004028         0.000000        0.000000   \n198       0.108000      0.000816         0.010667        0.000471   \n199       0.031333      0.000471         0.000000        0.000000   \n\n    param_n_estimators param_min_samples_split param_min_samples_leaf  \\\n0                   57                       2                      2   \n1                  189                       1                      1   \n2                   92                       2                      1   \n3                   92                       2                      1   \n4                  122                       1                      1   \n..                 ...                     ...                    ...   \n195                 28                       2                      1   \n196                 53                       2                      2   \n197                176                       1                      2   \n198                 22                       2                      2   \n199                 43                       1                      1   \n\n    param_max_features param_criterion  \\\n0                 sqrt         entropy   \n1                 sqrt         entropy   \n2                 sqrt         entropy   \n3                 log2            gini   \n4                 sqrt         entropy   \n..                 ...             ...   \n195               log2         entropy   \n196               log2         entropy   \n197               log2         entropy   \n198               log2            gini   \n199               log2         entropy   \n\n                                                params  split0_test_score  \\\n0    {'n_estimators': 57, 'min_samples_split': 2, '...           0.906313   \n1    {'n_estimators': 189, 'min_samples_split': 1, ...                NaN   \n2    {'n_estimators': 92, 'min_samples_split': 2, '...           0.907816   \n3    {'n_estimators': 92, 'min_samples_split': 2, '...           0.906313   \n4    {'n_estimators': 122, 'min_samples_split': 1, ...                NaN   \n..                                                 ...                ...   \n195  {'n_estimators': 28, 'min_samples_split': 2, '...           0.903808   \n196  {'n_estimators': 53, 'min_samples_split': 2, '...           0.903307   \n197  {'n_estimators': 176, 'min_samples_split': 1, ...                NaN   \n198  {'n_estimators': 22, 'min_samples_split': 2, '...           0.907315   \n199  {'n_estimators': 43, 'min_samples_split': 1, '...                NaN   \n\n     split1_test_score  split2_test_score  mean_test_score  std_test_score  \\\n0             0.913828           0.912325         0.910822        0.003247   \n1                  NaN                NaN              NaN             NaN   \n2             0.909820           0.908818         0.908818        0.000818   \n3             0.907816           0.905311         0.906480        0.001029   \n4                  NaN                NaN              NaN             NaN   \n..                 ...                ...              ...             ...   \n195           0.909319           0.903307         0.905478        0.002724   \n196           0.915832           0.907315         0.908818        0.005223   \n197                NaN                NaN              NaN             NaN   \n198           0.914329           0.910822         0.910822        0.002863   \n199                NaN                NaN              NaN             NaN   \n\n     rank_test_score  \n0                 28  \n1                164  \n2                 45  \n3                 78  \n4                163  \n..               ...  \n195               87  \n196               45  \n197              106  \n198               27  \n199              200  \n\n[200 rows x 16 columns]",
            "text/html": "<div>\n<style scoped>\n    .dataframe tbody tr th:only-of-type {\n        vertical-align: middle;\n    }\n\n    .dataframe tbody tr th {\n        vertical-align: top;\n    }\n\n    .dataframe thead th {\n        text-align: right;\n    }\n</style>\n<table border=\"1\" class=\"dataframe\">\n  <thead>\n    <tr style=\"text-align: right;\">\n      <th></th>\n      <th>mean_fit_time</th>\n      <th>std_fit_time</th>\n      <th>mean_score_time</th>\n      <th>std_score_time</th>\n      <th>param_n_estimators</th>\n      <th>param_min_samples_split</th>\n      <th>param_min_samples_leaf</th>\n      <th>param_max_features</th>\n      <th>param_criterion</th>\n      <th>params</th>\n      <th>split0_test_score</th>\n      <th>split1_test_score</th>\n      <th>split2_test_score</th>\n      <th>mean_test_score</th>\n      <th>std_test_score</th>\n      <th>rank_test_score</th>\n    </tr>\n  </thead>\n  <tbody>\n    <tr>\n      <th>0</th>\n      <td>0.373000</td>\n      <td>0.000816</td>\n      <td>0.026333</td>\n      <td>0.000471</td>\n      <td>57</td>\n      <td>2</td>\n      <td>2</td>\n      <td>sqrt</td>\n      <td>entropy</td>\n      <td>{'n_estimators': 57, 'min_samples_split': 2, '...</td>\n      <td>0.906313</td>\n      <td>0.913828</td>\n      <td>0.912325</td>\n      <td>0.910822</td>\n      <td>0.003247</td>\n      <td>28</td>\n    </tr>\n    <tr>\n      <th>1</th>\n      <td>0.129333</td>\n      <td>0.002055</td>\n      <td>0.000000</td>\n      <td>0.000000</td>\n      <td>189</td>\n      <td>1</td>\n      <td>1</td>\n      <td>sqrt</td>\n      <td>entropy</td>\n      <td>{'n_estimators': 189, 'min_samples_split': 1, ...</td>\n      <td>NaN</td>\n      <td>NaN</td>\n      <td>NaN</td>\n      <td>NaN</td>\n      <td>NaN</td>\n      <td>164</td>\n    </tr>\n    <tr>\n      <th>2</th>\n      <td>0.621667</td>\n      <td>0.008380</td>\n      <td>0.040333</td>\n      <td>0.000471</td>\n      <td>92</td>\n      <td>2</td>\n      <td>1</td>\n      <td>sqrt</td>\n      <td>entropy</td>\n      <td>{'n_estimators': 92, 'min_samples_split': 2, '...</td>\n      <td>0.907816</td>\n      <td>0.909820</td>\n      <td>0.908818</td>\n      <td>0.908818</td>\n      <td>0.000818</td>\n      <td>45</td>\n    </tr>\n    <tr>\n      <th>3</th>\n      <td>0.477667</td>\n      <td>0.005249</td>\n      <td>0.039667</td>\n      <td>0.000471</td>\n      <td>92</td>\n      <td>2</td>\n      <td>1</td>\n      <td>log2</td>\n      <td>gini</td>\n      <td>{'n_estimators': 92, 'min_samples_split': 2, '...</td>\n      <td>0.906313</td>\n      <td>0.907816</td>\n      <td>0.905311</td>\n      <td>0.906480</td>\n      <td>0.001029</td>\n      <td>78</td>\n    </tr>\n    <tr>\n      <th>4</th>\n      <td>0.083333</td>\n      <td>0.001247</td>\n      <td>0.000000</td>\n      <td>0.000000</td>\n      <td>122</td>\n      <td>1</td>\n      <td>1</td>\n      <td>sqrt</td>\n      <td>entropy</td>\n      <td>{'n_estimators': 122, 'min_samples_split': 1, ...</td>\n      <td>NaN</td>\n      <td>NaN</td>\n      <td>NaN</td>\n      <td>NaN</td>\n      <td>NaN</td>\n      <td>163</td>\n    </tr>\n    <tr>\n      <th>...</th>\n      <td>...</td>\n      <td>...</td>\n      <td>...</td>\n      <td>...</td>\n      <td>...</td>\n      <td>...</td>\n      <td>...</td>\n      <td>...</td>\n      <td>...</td>\n      <td>...</td>\n      <td>...</td>\n      <td>...</td>\n      <td>...</td>\n      <td>...</td>\n      <td>...</td>\n      <td>...</td>\n    </tr>\n    <tr>\n      <th>195</th>\n      <td>0.193667</td>\n      <td>0.005437</td>\n      <td>0.014667</td>\n      <td>0.000471</td>\n      <td>28</td>\n      <td>2</td>\n      <td>1</td>\n      <td>log2</td>\n      <td>entropy</td>\n      <td>{'n_estimators': 28, 'min_samples_split': 2, '...</td>\n      <td>0.903808</td>\n      <td>0.909319</td>\n      <td>0.903307</td>\n      <td>0.905478</td>\n      <td>0.002724</td>\n      <td>87</td>\n    </tr>\n    <tr>\n      <th>196</th>\n      <td>0.340667</td>\n      <td>0.001886</td>\n      <td>0.024000</td>\n      <td>0.000816</td>\n      <td>53</td>\n      <td>2</td>\n      <td>2</td>\n      <td>log2</td>\n      <td>entropy</td>\n      <td>{'n_estimators': 53, 'min_samples_split': 2, '...</td>\n      <td>0.903307</td>\n      <td>0.915832</td>\n      <td>0.907315</td>\n      <td>0.908818</td>\n      <td>0.005223</td>\n      <td>45</td>\n    </tr>\n    <tr>\n      <th>197</th>\n      <td>0.118333</td>\n      <td>0.004028</td>\n      <td>0.000000</td>\n      <td>0.000000</td>\n      <td>176</td>\n      <td>1</td>\n      <td>2</td>\n      <td>log2</td>\n      <td>entropy</td>\n      <td>{'n_estimators': 176, 'min_samples_split': 1, ...</td>\n      <td>NaN</td>\n      <td>NaN</td>\n      <td>NaN</td>\n      <td>NaN</td>\n      <td>NaN</td>\n      <td>106</td>\n    </tr>\n    <tr>\n      <th>198</th>\n      <td>0.108000</td>\n      <td>0.000816</td>\n      <td>0.010667</td>\n      <td>0.000471</td>\n      <td>22</td>\n      <td>2</td>\n      <td>2</td>\n      <td>log2</td>\n      <td>gini</td>\n      <td>{'n_estimators': 22, 'min_samples_split': 2, '...</td>\n      <td>0.907315</td>\n      <td>0.914329</td>\n      <td>0.910822</td>\n      <td>0.910822</td>\n      <td>0.002863</td>\n      <td>27</td>\n    </tr>\n    <tr>\n      <th>199</th>\n      <td>0.031333</td>\n      <td>0.000471</td>\n      <td>0.000000</td>\n      <td>0.000000</td>\n      <td>43</td>\n      <td>1</td>\n      <td>1</td>\n      <td>log2</td>\n      <td>entropy</td>\n      <td>{'n_estimators': 43, 'min_samples_split': 1, '...</td>\n      <td>NaN</td>\n      <td>NaN</td>\n      <td>NaN</td>\n      <td>NaN</td>\n      <td>NaN</td>\n      <td>200</td>\n    </tr>\n  </tbody>\n</table>\n<p>200 rows × 16 columns</p>\n</div>"
          },
          "metadata": {}
        }
      ]
    },
    {
      "cell_type": "code",
      "source": "rando.best_score_",
      "metadata": {
        "trusted": true
      },
      "execution_count": 84,
      "outputs": [
        {
          "execution_count": 84,
          "output_type": "execute_result",
          "data": {
            "text/plain": "0.9134936539746158"
          },
          "metadata": {}
        }
      ]
    },
    {
      "cell_type": "code",
      "source": "ran = rando.best_estimator_\nran",
      "metadata": {
        "trusted": true
      },
      "execution_count": 85,
      "outputs": [
        {
          "execution_count": 85,
          "output_type": "execute_result",
          "data": {
            "text/plain": "RandomForestClassifier(max_features='sqrt', min_samples_leaf=2,\n                       n_estimators=157)"
          },
          "metadata": {}
        }
      ]
    },
    {
      "cell_type": "code",
      "source": "ran.fit(xtrain, ytrain)",
      "metadata": {
        "trusted": true
      },
      "execution_count": 86,
      "outputs": [
        {
          "execution_count": 86,
          "output_type": "execute_result",
          "data": {
            "text/plain": "RandomForestClassifier(max_features='sqrt', min_samples_leaf=2,\n                       n_estimators=157)"
          },
          "metadata": {}
        }
      ]
    },
    {
      "cell_type": "code",
      "source": "ran.score(xtest, ytest)",
      "metadata": {
        "trusted": true
      },
      "execution_count": 87,
      "outputs": [
        {
          "execution_count": 87,
          "output_type": "execute_result",
          "data": {
            "text/plain": "0.9131281651733542"
          },
          "metadata": {}
        }
      ]
    },
    {
      "cell_type": "code",
      "source": "",
      "metadata": {},
      "execution_count": null,
      "outputs": []
    }
  ]
}